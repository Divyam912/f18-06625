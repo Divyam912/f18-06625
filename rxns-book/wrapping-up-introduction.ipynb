{
 "cells": [
  {
   "cell_type": "markdown",
   "metadata": {},
   "source": [
    "# Notes"
   ]
  },
  {
   "cell_type": "markdown",
   "metadata": {},
   "source": [
    "\n",
    "- Exam 1 next Wednesday\n",
    "- HW due Wednesday\n",
    "- Piazza questions"
   ]
  },
  {
   "cell_type": "markdown",
   "metadata": {},
   "source": [
    "# Review on stoichiometry and rate laws"
   ]
  },
  {
   "cell_type": "markdown",
   "metadata": {},
   "source": [
    "\n",
    "## The rate of disappearance of a reactant\n",
    "\n"
   ]
  },
  {
   "cell_type": "markdown",
   "metadata": {},
   "source": [
    "-   Now, recalling that $X = \\frac{N_{A_j} - N_{A_j,0}}{\\alpha_j}$, we arrive at:\n",
    "\n",
    "\\begin{equation}\n",
    "\\frac{dX}{dt} = \\frac{1}{\\alpha_j} \\frac{dN_{A_J}}{dt}\n",
    "\\end{equation}\n",
    "\n",
    "or rearranging, and using $R^*$:\n",
    "\n",
    "\\begin{equation}\n",
    "\\frac{dN_{A_J}}{dt} = \\alpha_j R^*\n",
    "\\end{equation}\n",
    "\n",
    "-   Thus, the change in composition of species J *due to the reaction* is just the stoichiometric coefficient for that species times the reaction rate. If the volume is constant:\n",
    "\n",
    "\\begin{equation}\n",
    "r = R^* / V = \\frac{d\\xi}{dt}\n",
    "\\end{equation}\n",
    "\n",
    "This defines the intensive reaction rate, with units of mol / vol / time.\n",
    "\n",
    "That also leads to (only for constant volume!)\n",
    "\n",
    "\\begin{equation}\n",
    "\\frac{dC_{A_J}}{dt} = \\alpha_j r\n",
    "\\end{equation}\n",
    "\n",
    "-   We define the species rate of production as:\n",
    "\n",
    "\\begin{equation}\n",
    "r_j = \\alpha_j r\n",
    "\\end{equation}\n",
    "\n",
    "-   This is **NOT** the rate law!\n",
    "    -   It is a relationship between the rate of appearance of a species and the reaction rate\n",
    "    \n",
    "    -   One of our goals is to find the function that describes the rate of the reaction and its dependence on concentration and temperature\n",
    "    \n",
    "    -   This will come later in the course.\n",
    "\n"
   ]
  },
  {
   "cell_type": "markdown",
   "metadata": {},
   "source": [
    "\n",
    "# Membrane reactors\n",
    "\n"
   ]
  },
  {
   "cell_type": "markdown",
   "metadata": {},
   "source": [
    "-   A membrane reactor is typically like a plug flow reactor, but one reactant selectively passes across the membrane into the reactor, or a product selectively passes across the membrane, out of the reactor.\n",
    "\n",
    "![img](./images/membrane-reactor.png)\n",
    "\n",
    "-   The mole balance is similar to the plug flow reactor\n",
    "\n",
    "-   We need a new term in our mole balance because there is an additional flow of material into the reactor\n",
    "\n",
    "-   We consider the differential volume again, and in the limit of $\\Delta V \\rightarrow 0$ we have to know the flux across the surface of the membrane per unit volume.\n",
    "\n",
    "$ \\frac{dF_A}{dV} = r_A + R_A  $\n",
    "\n",
    "-   where $R_A$ will be an expression for the flux across the membrane per unit volume of the reactor.\n",
    "-   Similar to the case where we had a pressure drop, we need a model that describes the flux across the membrane\n",
    "    -   This requires some knowledge of the transport process across the membrane\n",
    "    -   For diffusion we might choose $R_A = a k_{c,A}(C_{A,s} - C_A)$\n",
    "        -   where $C_A$ is the concentration of $A$ in the reactor, and $C_{A,s}$ is the concentration of $A$ outside the reactor.\n",
    "        -   If $C_{A,s} > C_A$ there is a net flux of $A$ into the reactor\n",
    "        -   $a$ is the surface area per unit volume (for a tubular reactor, $a=4/D$)\n",
    "        -   k<sub>c,A</sub> is an overall mass transfer coefficient in m/s\n",
    "\n",
    "-   Since we have a situation where the molar flow is changing down the length of the reactor due to transport and reaction, we have to consider the effect on the volumetric flowrate and concentrations\n",
    "\n",
    "-   Let us consider a single reaction, $A \\rightarrow B + C$, where $B$ is permeable to the walls of the reactor, and diffuses out.\n",
    "-   let $k = 0.7$ 1/min, $k_b' = k_b a =  0.2$ 1/min\n",
    "-   let $-r_A = k C_A$\n",
    "-   the inlet molar flow is 10 mol/min at a concentration of 0.2 mol/L\n",
    "-   Assume that the outside of the reactor is swept by an inert gas, so $C_{B,s} = 0$.\n",
    "-   Estimate the exit concentrations at V = 400 L\n",
    "\n",
    "-   We cannot simply relate the species by stoichiometry here, because the molar flow of $B$ is affected by reaction and transport.\n",
    "-   We need a mole balances for each species\n",
    "-   For species that does not cross the membrane, we use the same mole balance as a PFR.\n",
    "\n"
   ]
  },
  {
   "cell_type": "code",
   "execution_count": 4,
   "metadata": {},
   "outputs": [
    {
     "name": "stdout",
     "output_type": "stream",
     "text": [
      "Fa_exit = 0.23592352651668289 mol/min\n",
      "Fb_exit = 4.469312535575382 mol/min\n",
      "Fc_exit = 9.764076473483316 mol/min\n",
      "Ca_exit = 0.003261019152591015 mol/L\n",
      "Cb_exit = 0.06177643235760899 mol/L\n",
      "Cc_exit = 0.1349625484898 mol/L\n"
     ]
    }
   ],
   "source": [
    "import numpy as np\n",
    "from scipy.integrate import odeint\n",
    "import matplotlib.pyplot as plt\n",
    "\n",
    "k = 0.7     # rate constant  1/min\n",
    "kb = 0.2    # mass transfer coefficent * a  1/min\n",
    "\n",
    "Ca0 = 0.2   # mol / L\n",
    "Fa0 = 10.0  # mol / min\n",
    "Ft0 = Fa0   # Fb0, Fc0 = 0\n",
    "\n",
    "v0 = Fa0 / Ca0  # inlet volumetric flow\n",
    "\n",
    "Cbs = 0.0    # concentration of B outside shell\n",
    "\n",
    "\n",
    "def dFdV(F, V):\n",
    "    Fa, Fb, Fc = F     # unpack the variables\n",
    "    Ft = Fa + Fb + Fc  # compute total molar flow\n",
    "\n",
    "    v = v0 * Ft / Ft0  # compute corrected volumetric flowrate\n",
    "    Ca = Fa / v        # compute concentrations\n",
    "    Cb = Fb / v\n",
    "    ra = -k * Ca       # compute reaction rate\n",
    "    rb = -ra\n",
    "    rc = -ra\n",
    "    Rb = kb * (Cbs - Cb)  # rate of mass transfer across shell\n",
    "\n",
    "    # define the mole balances\n",
    "    dFadV = ra\n",
    "    dFbdV = rb + Rb\n",
    "    dFcdV = rc\n",
    "    return [dFadV, dFbdV, dFcdV]\n",
    "\n",
    "Vspan = np.linspace(0.0, 400.0)  # liters\n",
    "F0 = [Fa0, 0, 0]\n",
    "sol = odeint(dFdV, F0, Vspan)\n",
    "Faexit, Fbexit, Fcexit = sol[-1, :]\n",
    "print('''Fa_exit = {0} mol/min\n",
    "Fb_exit = {1} mol/min\n",
    "Fc_exit = {2} mol/min'''.format(Faexit, Fbexit, Fcexit))\n",
    "\n",
    "v_exit = v0 * (Faexit + Fbexit + Fcexit) / Ft0\n",
    "\n",
    "print('''Ca_exit = {0} mol/L\n",
    "Cb_exit = {1} mol/L\n",
    "Cc_exit = {2} mol/L'''.format(Faexit / v_exit, Fbexit / v_exit, Fcexit / v_exit))"
   ]
  },
  {
   "cell_type": "markdown",
   "metadata": {},
   "source": [
    "-   What you can see here is that $F_C$ and $F_A$ can be related by stoichiometry:\n",
    "\n"
   ]
  },
  {
   "cell_type": "code",
   "execution_count": 2,
   "metadata": {},
   "outputs": [
    {
     "name": "stdout",
     "output_type": "stream",
     "text": [
      "9.764076473483\n"
     ]
    }
   ],
   "source": [
    "Fa0 = 10.0\n",
    "Fa_exit = 0.235923526517\n",
    "xi = (Fa_exit - Fa0) / -1  # reaction extent\n",
    "\n",
    "Fc_exit = xi * 1  # extent * stoichiometry\n",
    "print(Fc_exit)"
   ]
  },
  {
   "cell_type": "markdown",
   "metadata": {},
   "source": [
    "-   However, $F_B$ cannot be related by stoichiometry (or reaction extent) because it also changes by transport across the reactor walls\n",
    "\n",
    "-   This is an introduction to the membrane reactor\n",
    "-   Where the membrane reactor has real impact is when multiple reactions are present, and selectivity is important.\n",
    "-   Membrane reactors are especially helpful in cases where equilibrium limits exist\n",
    "\n",
    "-   We will see more of these in future lectures.\n",
    "\n"
   ]
  },
  {
   "cell_type": "markdown",
   "metadata": {},
   "source": [
    "## Core/shell membrane exchanger"
   ]
  },
  {
   "cell_type": "markdown",
   "metadata": {},
   "source": [
    "counterflow transport pass by reference, pass by value, stack"
   ]
  },
  {
   "cell_type": "code",
   "execution_count": 6,
   "metadata": {},
   "outputs": [
    {
     "name": "stdout",
     "output_type": "stream",
     "text": [
      "Fa_exit = 0.2423037896494297 mol/min\n",
      "Fb_exit = 4.618518072580439 mol/min\n",
      "Fc_exit = 9.75769621035057 mol/min\n",
      "Fb2_exit = 0.16082186222987033 mol/min\n",
      "Ca_exit = 0.003315025345885263 mol/L\n",
      "Cb_exit = 0.0631872266347335 mol/L\n",
      "Cc_exit = 0.13349774801938122 mol/L\n"
     ]
    },
    {
     "data": {
      "image/png": "[encoded data removed]",
      "text/plain": [
       "<Figure size 432x288 with 1 Axes>"
      ]
     },
     "metadata": {},
     "output_type": "display_data"
    }
   ],
   "source": [
    "import numpy as np\n",
    "from scipy.integrate import odeint\n",
    "import matplotlib.pyplot as plt\n",
    "\n",
    "k = 0.7     # rate constant  1/min\n",
    "kb = 0.2    # mass transfer coefficent * a  1/min\n",
    "\n",
    "Ca0 = 0.2   # mol / L\n",
    "Fa0 = 10.0  # mol / min\n",
    "Ft0 = Fa0   # Fb0, Fc0 = 0\n",
    "\n",
    "v0 = Fa0 / Ca0  # inlet volumetric flow\n",
    "\n",
    "Cb0 = 0.0    # concentration of B outside shell\n",
    "\n",
    "Fb20=5.3\n",
    "Fn0 = 1000 # 1 mol/min inert flow rate\n",
    "v02 = 1000 # L/min\n",
    "\n",
    "\n",
    "def dFdV(F, V):\n",
    "    Fa, Fb, Fc, Fb2 = F     # unpack the variables\n",
    "    Ft = Fa + Fb + Fc  # compute total molar flow\n",
    "\n",
    "    v = v0 * Ft / Ft0  # compute corrected volumetric flowrate\n",
    "    \n",
    "    v2 = v02 * (Fn0 + Fb2) / Fn0\n",
    "    Ca = Fa / v        # compute concentrations\n",
    "    Cb = Fb / v\n",
    "    Cb2 = Fb2 / v2\n",
    "    ra = -k * Ca       # compute reaction rate\n",
    "    rb = -ra\n",
    "    rc = -ra\n",
    "    Rb = kb * (Cb2 - Cb)  # rate of mass transfer across shell\n",
    "\n",
    "    # define the mole balances\n",
    "    dFadV = ra\n",
    "    dFbdV = rb + Rb\n",
    "    dFcdV = rc\n",
    "    dFb2dV = Rb\n",
    "    return [dFadV, dFbdV, dFcdV,dFb2dV]\n",
    "\n",
    "Vspan = np.linspace(0.0, 400.0)  # liters\n",
    "F0 = [Fa0, 0, 0,Fb20]\n",
    "sol = odeint(dFdV, F0, Vspan)\n",
    "Faexit, Fbexit, Fcexit, Fb2exit = sol[-1, :]\n",
    "print('''Fa_exit = {0} mol/min\n",
    "Fb_exit = {1} mol/min\n",
    "Fc_exit = {2} mol/min\n",
    "Fb2_exit = {3} mol/min'''.format(Faexit, Fbexit, Fcexit, Fb2exit))\n",
    "\n",
    "v_exit = v0 * (Faexit + Fbexit + Fcexit) / Ft0\n",
    "\n",
    "print('''Ca_exit = {0} mol/L\n",
    "Cb_exit = {1} mol/L\n",
    "Cc_exit = {2} mol/L'''.format(Faexit / v_exit, Fbexit / v_exit, Fcexit / v_exit))\n",
    "\n",
    "plt.plot(Vspan,sol)\n",
    "plt.legend(['Fa','Fb','Fc','Fb2'])\n",
    "plt.show()"
   ]
  },
  {
   "cell_type": "markdown",
   "metadata": {},
   "source": [
    "## Counter-flow systems"
   ]
  },
  {
   "cell_type": "markdown",
   "metadata": {},
   "source": [
    "-   In the plug flow reactor, reactants enter the front of the reactor and disappear as they flow through the reactor\n",
    "\n",
    "![img](./images/pfr-schematic.png)\n",
    "\n",
    "-   We assume our differential element is well-mixed\n",
    "-   The mole balance on the differential element leads to\n",
    "\n",
    "$ \\frac{dN_A}{dt} = F_A |_V - F_A |_{V + \\Delta V} + \\Delta V r_A $\n",
    "\n",
    "-   At steady state, in the limit of $\\Delta V \\rightarrow 0$ we get:\n",
    "\n",
    "$ \\frac{dF_A}{dV} = r_A $\n",
    "\n",
    "-   This is an ordinary differential equation (but it varies in space, not time), and to solve it we need an initial condition on the molar flow at $V=0$.\n",
    "\n"
   ]
  },
  {
   "cell_type": "markdown",
   "metadata": {},
   "source": [
    "# Pass by reference vs pass by value"
   ]
  },
  {
   "cell_type": "code",
   "execution_count": null,
   "metadata": {
    "scrolled": true
   },
   "outputs": [],
   "source": [
    "import copy\n",
    "a=1 \n",
    "\n",
    "def g(x):\n",
    "    x+=1\n",
    "    return x\n",
    "\n",
    "def f(x,a):\n",
    "    x+=2\n",
    "    a+=1\n",
    "    return x\n",
    "\n",
    "#print(a)\n",
    "x=f(1,a)\n",
    "#print(a)\n",
    "\n",
    "\n",
    "a=[]\n",
    "def f(a):\n",
    "    a=copy.deepcopy(a)\n",
    "    a.append(0)\n",
    "    return\n",
    "\n",
    "print(a)\n",
    "f(a)\n",
    "print(a)"
   ]
  },
  {
   "cell_type": "markdown",
   "metadata": {},
   "source": [
    "\n",
    "# Advanced usage of fsolve\n",
    "\n"
   ]
  },
  {
   "cell_type": "markdown",
   "metadata": {},
   "source": [
    "-   We have thus far used fsolve in the simplest way possible.\n",
    "-   We have used the output of the function, or the success of the function as an indication that it worked\n",
    "    -   We may also have used the answer in our objective function to confirm we got an answer near zero.\n",
    "\n"
   ]
  },
  {
   "cell_type": "code",
   "execution_count": null,
   "metadata": {},
   "outputs": [],
   "source": [
    "import numpy as np\n",
    "from scipy.optimize import fsolve\n",
    "\n",
    "def objective(x):\n",
    "    return np.exp(x) + 2.0\n",
    "\n",
    "sol, info, ier, message = fsolve(objective, 0.5, full_output=True)\n",
    "if ier == 1:\n",
    "    print(message)\n",
    "else:\n",
    "    print('fsolve did not finish correctly. Check your work', ier)\n",
    "\n",
    "# Note the advanced string formatting in this example\n",
    "print('''\n",
    "Nsteps taken = {a[nfev]}\n",
    "objective(sol) = {a[fvec]}'''.format(a=info))\n",
    "\n",
    "print('''\n",
    "Nsteps taken = {0}\n",
    "objective(sol) = {1}'''.format(info['nfev'], info['fvec']))\n",
    "\n",
    "print(info)\n",
    "\n",
    "a = np.array([0, 1, 2, 3, 4])\n",
    "\n",
    "print('e0: {var[0]}'.format(var=a))"
   ]
  },
  {
   "cell_type": "code",
   "execution_count": null,
   "metadata": {},
   "outputs": [],
   "source": [
    "message"
   ]
  },
  {
   "cell_type": "markdown",
   "metadata": {},
   "source": [
    "-   This kind of information is especially helpful in longer programs, or when you embed fsolve in a loop\n",
    "-   You can use programming to catch errors and handle them gracefully\n",
    "    -   This is outside the scope of this course\n",
    "\n",
    "-   There are many more options to consider with fsolve that control a variety of properties.\n",
    "\n",
    "[scipy.optimize.fsolve](https://docs.scipy.org/doc/scipy/reference/generated/scipy.optimize.fsolve.html)\n",
    "\n"
   ]
  },
  {
   "cell_type": "code",
   "execution_count": null,
   "metadata": {},
   "outputs": [],
   "source": [
    "from scipy.optimize import fsolve\n",
    "print(help(fsolve))"
   ]
  },
  {
   "cell_type": "markdown",
   "metadata": {},
   "source": [
    "See [http://kitchingroup.cheme.cmu.edu/blog/category/nonlinear-algebra/>](http://kitchingroup.cheme.cmu.edu/blog/category/nonlinear-algebra/>)for many examples of using fsolve in python.\n",
    "\n",
    "-   Finally, you may be interested in another solver that has more advanced features [scipy.optimize.root](https://docs.scipy.org/doc/scipy/reference/generated/scipy.optimize.root.html)\n",
    "-   It is similar to fsolve, but offers more flexibility in the methods\n",
    "\n",
    "[scipy.optimize.root](https://docs.scipy.org/doc/scipy/reference/generated/scipy.optimize.root.html)\n",
    "\n"
   ]
  },
  {
   "cell_type": "code",
   "execution_count": null,
   "metadata": {},
   "outputs": [],
   "source": [
    "from scipy.optimize import root\n",
    "print(help(root))"
   ]
  },
  {
   "cell_type": "markdown",
   "metadata": {},
   "source": [
    "\n",
    "## Parameterized fsolve\n",
    "\n"
   ]
  },
  {
   "cell_type": "markdown",
   "metadata": {},
   "source": [
    "Suppose we want to solve a nonlinear algebra problem for many values of a parameter.\n",
    "\n",
    "Let the reaction $A \\rightarrow B$ take place in a CSTR with a volume of 10 L, and $r = 2.3 C_A$.\n",
    "\n",
    "The inlet concentration is 1.5 mol / L of A.\n",
    "\n",
    "You need to compute the exit conversion for a range of volumetric flows.\n",
    "\n",
    "We know that we are solving:\n",
    "$0 = F_{A0} - F_A + r_A V$\n",
    "\n",
    "We have to resolve this problem *many* times for different values of v0.\n",
    "\n",
    "Rather than redefine the equation over and over, we parameterize the objective function with an additional argument.\n",
    "\n"
   ]
  },
  {
   "cell_type": "code",
   "execution_count": null,
   "metadata": {
    "scrolled": true
   },
   "outputs": [],
   "source": [
    "import numpy as np\n",
    "from scipy.optimize import fsolve\n",
    "import matplotlib.pyplot as plt\n",
    "\n",
    "V = 10.0\n",
    "Ca0 = 1.5\n",
    "\n",
    "# v0 is a /parameter/\n",
    "def objective(Ca, v0):\n",
    "    ra = -2.3 * Ca\n",
    "    return Ca0 * v0 - Ca * v0 + ra * V\n",
    "\n",
    "v_array = np.linspace(1, 20)\n",
    "\n",
    "ig = 0.01  # assume high conversion for initial guess\n",
    "\n",
    "# we use the parameter like this\n",
    "print(fsolve(objective, ig, args=(1.0,)))\n",
    "print(fsolve(objective, ig, args=(2.0,)))\n",
    "\n",
    "\n",
    "# use list comprehension to do the loop\n",
    "Ca_exit = [fsolve(objective, ig, args=(v,)) for v in v_array]\n",
    "\n",
    "X = (Ca0 - np.array(Ca_exit)) / Ca0\n",
    "plt.plot(v_array, X)\n",
    "plt.xlabel('volumetric flow')\n",
    "plt.ylabel('exit conversion')\n",
    "plt.show()"
   ]
  },
  {
   "cell_type": "markdown",
   "metadata": {},
   "source": [
    "\n",
    "# Advanced usage of odeint\n",
    "\n"
   ]
  },
  {
   "cell_type": "markdown",
   "metadata": {},
   "source": [
    "-   We have also not used the odeint function to its full capacity either\n",
    "-   We can also get `odeint` to tell us about whether it succeeded or not\n",
    "\n"
   ]
  },
  {
   "cell_type": "code",
   "execution_count": null,
   "metadata": {},
   "outputs": [],
   "source": [
    "import numpy as np\n",
    "from scipy.integrate import odeint\n",
    "\n",
    "def dydx(y, x):\n",
    "    return y\n",
    "\n",
    "y0 = 1\n",
    "xspan = np.linspace(0,2)\n",
    "\n",
    "# Let us get the extra output\n",
    "sol, infodict = odeint(dydx, y0, xspan, full_output=True)\n",
    "print(infodict)\n",
    "\n",
    "print(infodict['message'])\n",
    "\n",
    "# you can check for success like this\n",
    "if infodict['message'] != 'Integration successful.':\n",
    "    print('Something went wrong')\n",
    "    print(infodict['message'])"
   ]
  },
  {
   "cell_type": "markdown",
   "metadata": {},
   "source": [
    "-   the information in infodict may be helpful in debugging problems\n",
    "-   there are many more options to odeint that may be helpful in some problems\n",
    "\n",
    "[scipy.integrate.odeint](https://docs.scipy.org/doc/scipy/reference/generated/scipy.integrate.odeint.html)\n",
    "\n"
   ]
  },
  {
   "cell_type": "code",
   "execution_count": null,
   "metadata": {
    "scrolled": true
   },
   "outputs": [],
   "source": [
    "from scipy.integrate import odeint\n",
    "help(odeint)"
   ]
  },
  {
   "cell_type": "markdown",
   "metadata": {},
   "source": [
    "# Strategies for solving complex problems"
   ]
  },
  {
   "cell_type": "markdown",
   "metadata": {},
   "source": [
    "\n",
    "# Summary\n",
    "\n"
   ]
  },
  {
   "cell_type": "markdown",
   "metadata": {},
   "source": [
    "You should have learned:\n",
    "\n",
    "1.  How stoichiometry determines changes in the moles of species in a reaction\n",
    "2.  How the relative rates of species production are related by stoichiometry\n",
    "3.  Mole balances for a batch reactor, continuously stirred tank reactor, and plug flow reactor\n",
    "4.  Mole balances for reactors with pressure drops and for reactions that change the total number of moles\n",
    "\n",
    "You have seen examples of:\n",
    "\n",
    "1.  solving nonlinear equations\n",
    "2.  integrating ordinary differential equations"
   ]
  },
  {
   "cell_type": "code",
   "execution_count": null,
   "metadata": {},
   "outputs": [],
   "source": []
  }
 ],
 "metadata": {
  "kernelspec": {
   "display_name": "Python 3",
   "language": "python",
   "name": "python3"
  },
  "language_info": {
   "codemirror_mode": {
    "name": "ipython",
    "version": 3
   },
   "file_extension": ".py",
   "mimetype": "text/x-python",
   "name": "python",
   "nbconvert_exporter": "python",
   "pygments_lexer": "ipython3",
   "version": "3.6.3"
  },
  "toc": {
   "base_numbering": 1,
   "nav_menu": {
    "height": "227px",
    "width": "252px"
   },
   "number_sections": true,
   "sideBar": true,
   "skip_h1_title": false,
   "title_cell": "Table of Contents",
   "title_sidebar": "Contents",
   "toc_cell": false,
   "toc_position": {},
   "toc_section_display": "block",
   "toc_window_display": false
  }
 },
 "nbformat": 4,
 "nbformat_minor": 1
}
