{
 "cells": [
  {
   "cell_type": "markdown",
   "metadata": {},
   "source": [
    "$$\\require{mhchem}$$"
   ]
  },
  {
   "cell_type": "markdown",
   "metadata": {},
   "source": [
    "# Curve fitting with two species and multiple data (20 pt)"
   ]
  },
  {
   "cell_type": "markdown",
   "metadata": {},
   "source": [
    "Consider the irreversible reaction:\n",
    "\\begin{align*}\n",
    "\\ce{A + B -> Products}\n",
    "\\end{align*}\n",
    "with $r=kC_A^nC_B^m$ taking place in an isothermal liquid-phase batch reactor. Measurements of $C_A$ vs $C_B$ are included in the attached file HW6_p1_data.dat. We wish to determine from the data the rate constant and the order of the reaction with respect to A and B.  We have data from two experiments. "
   ]
  },
  {
   "cell_type": "markdown",
   "metadata": {},
   "source": [
    "## Load the data from the file into a numpy array and plot the concentration of each species\n",
    "\n",
    "You can use either the csv library https://docs.python.org/3/library/csv.html or pandas https://pandas.pydata.org/pandas-docs/stable/generated/pandas.read_csv.html. \n",
    "\n",
    "The first column is time in minutes. The second and third column is C_A and C_B for the first experiment (in mol/L). The fourth and fifth column is C_A and C_B for the second experiment. Plot the data for $C_A$ and $C_B$ for each experiment (one experiment per figure)."
   ]
  },
  {
   "cell_type": "markdown",
   "metadata": {},
   "source": [
    "## Estimate rate parameters $k, n, m$ and initial concentration $C_{A0},C_{B0}$ from the data in the first experiment using a numerical solution for the concentrations of each species (standard mol balance + odeint).  Plot the final fit of the experiment along with the experimental data and calculate the uncertainty in each value"
   ]
  },
  {
   "cell_type": "markdown",
   "metadata": {},
   "source": [
    "Hint: this can be tricky, so here's some example code to get you started. Of course, this is not the only way to implement it."
   ]
  },
  {
   "cell_type": "code",
   "execution_count": null,
   "metadata": {},
   "outputs": [],
   "source": [
    "from scipy.optimize import minimize\n",
    "\n",
    "# Solve for the mol balance (dC/dt) as a function of time\n",
    "def batch_mol_balance(C,t,k,n,m):\n",
    "    # fill this in\n",
    "    return [dCadt,dCbdt]\n",
    "\n",
    "#Solve for the transient profile for a range of times i.e. integrate forward \n",
    "def solve_batch(t,k,n,m,Ca0,Cb0):\n",
    "    # fill this in\n",
    "    return C #should be array of Ca,Cb at each time point\n",
    "\n",
    "#Calculate the Sum Squared Error for a set of fitted parameters in vector x\n",
    "# make sure this is defined as 1/2 * sum (y-y')^2, the factor of 1/2 matters\n",
    "def sse(x):\n",
    "    k,n,m,Ca0,Cb0 = x\n",
    "\n",
    "    return SSE\n",
    "\n",
    "\n",
    "#This function calculates uncertainty estimates from the information provided\n",
    "# as output from the scipy.optimize.minimize function. \n",
    "# min_out is the output object of minimize (which contains the function value \n",
    "#   and inverse hessian).\n",
    "# num_samples is the number of data points used to fit\n",
    "def uncertainty(min_out,num_samples):\n",
    "    return np.diag(np.sqrt(min_out['hess_inv']*2*min_out.fun/(num_samples-5)))\n",
    "    \n",
    "#Find the best parameters via least squares\n",
    "min_out = #fill this in\n",
    "\n",
    "#Find the uncertainty for each parameter, fill in num_samples\n",
    "print(uncertainty(min_out,num_samples)"
   ]
  },
  {
   "cell_type": "markdown",
   "metadata": {},
   "source": [
    "## Consider the second experiment, estimate the parameters using only this data. Comment on how the values and confidence intervals are different than the first case\n"
   ]
  },
  {
   "cell_type": "code",
   "execution_count": null,
   "metadata": {},
   "outputs": [],
   "source": [
    "# Pretty much the same as above, sse function will be different using different\n",
    "# data"
   ]
  },
  {
   "cell_type": "markdown",
   "metadata": {},
   "source": [
    "## Estimate the parameters using both experiments simultaneously. Are the confidence intervals better? Comment on why or why not."
   ]
  },
  {
   "cell_type": "code",
   "execution_count": null,
   "metadata": {},
   "outputs": [],
   "source": [
    "# Pretty much the same as above, sse function will be different using different\n",
    "# data"
   ]
  },
  {
   "cell_type": "markdown",
   "metadata": {},
   "source": [
    "## Based on these results, to determine the order of the rate expression with respect to two different species, how should you choose the initial conditions of the two species?"
   ]
  },
  {
   "cell_type": "markdown",
   "metadata": {},
   "source": [
    "## Linear least squares. Derive an expression for the linear least squared fit for this data for $\\ln(-dC_A/dt)$ and $\\ln(-dC_B/dt)$, analagous to how we did it in https://github.com/zulissi/f18-06625/blob/master/rxns-book/parameter-estimation.ipynb"
   ]
  },
  {
   "cell_type": "markdown",
   "metadata": {},
   "source": [
    "## Using the second set of data (without the noise) in HW6_p1_data_error_free.dat, estimate the derivative for each curve and fit $k, n, m$ for each of three cases:\n",
    "- Just data from experiment 1\n",
    "- Just data from experiment 2\n",
    "- Data from experiment 1 and 2\n",
    "\n",
    "You probably want to fit this by taking the average of these two estimates for the reaction rate, but you could also fit this by having the linear regression fit both curves at the same time (for example, fit the derivative of A and B as extra data). Include estimates of uncertainty in each parameter. You can use either derivate data from the polynomial-fit curve or the raw data using finite differences (as in class)."
   ]
  },
  {
   "cell_type": "markdown",
   "metadata": {},
   "source": [
    "## Finally, using the noisy data in HW6_p1_data.dat, estimate the derivative for each curve and fit $k, n, m$ for each of three cases:\n",
    "- Just data from experiment 1\n",
    "- Just data from experiment 2\n",
    "- Data from experiment 1 and 2\n"
   ]
  },
  {
   "cell_type": "markdown",
   "metadata": {},
   "source": [
    "Hint: for the linear regression to work, all of the data must be real numbers. If one of your gradient estimates is positive, log(-dC/dt) will be negative, so you have to remove those points or find a way to smooth where that doesn't happen. Same thing for C; if the data says it is negative, then the log will be undefined and you have to either remove or smooth those points."
   ]
  },
  {
   "cell_type": "markdown",
   "metadata": {},
   "source": [
    "## Which method of estimating parameters would you recommend in this situation?"
   ]
  },
  {
   "cell_type": "code",
   "execution_count": null,
   "metadata": {},
   "outputs": [],
   "source": []
  }
 ],
 "metadata": {
  "kernelspec": {
   "display_name": "Python 3",
   "language": "python",
   "name": "python3"
  },
  "language_info": {
   "codemirror_mode": {
    "name": "ipython",
    "version": 3
   },
   "file_extension": ".py",
   "mimetype": "text/x-python",
   "name": "python",
   "nbconvert_exporter": "python",
   "pygments_lexer": "ipython3",
   "version": "3.6.3"
  },
  "toc": {
   "base_numbering": 1,
   "nav_menu": {
    "height": "173px",
    "width": "252px"
   },
   "number_sections": true,
   "sideBar": true,
   "skip_h1_title": false,
   "title_cell": "Table of Contents",
   "title_sidebar": "Contents",
   "toc_cell": false,
   "toc_position": {},
   "toc_section_display": "block",
   "toc_window_display": false
  }
 },
 "nbformat": 4,
 "nbformat_minor": 2
}
