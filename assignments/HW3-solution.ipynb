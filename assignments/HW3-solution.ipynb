{
 "cells": [
  {
   "cell_type": "markdown",
   "metadata": {},
   "source": [
    "$$\\require{mhchem}$$"
   ]
  },
  {
   "cell_type": "markdown",
   "metadata": {},
   "source": [
    "# In class assignment (6 pts)\n",
    "\n",
    "Complete the in-class assignment that you started in class on Wednesday. Since the solutions are already available, this will simply be graded for completeness. "
   ]
  },
  {
   "cell_type": "markdown",
   "metadata": {},
   "source": [
    " We have a liquid feed of A and B, with concentration of A 2M and concentration of B 3M, with a total flow rate of 0.1 m$^3$/s.  We are looking to optimize the conversion of the reaction: \n",
    "\\begin{align*}\n",
    "\\ce{A + 2B -> C}\n",
    "\\end{align*}\n",
    "You can assume in all cases the reaction is isothermal and the volume does not change with changes in the molar flow rates of the reactants.  The reaction is elementary and the rate constant is $k_1=0.1 dm^6/mol^2/s$\n",
    "\n"
   ]
  },
  {
   "cell_type": "markdown",
   "metadata": {},
   "source": [
    "## First, find the maximum extent of reaction $\\xi^{max}$ and write the rate equation $r$. (5 pts)"
   ]
  },
  {
   "cell_type": "markdown",
   "metadata": {},
   "source": []
  },
  {
   "cell_type": "markdown",
   "metadata": {},
   "source": [
    "Since we have a constant volume reactor and a constant volumetric flow, we use an intensive reaction extent:\n",
    "\n",
    "\\begin{equation}\n",
    "C_j = C_{j, 0} + \\alpha_j \\xi\n",
    "\\end{equation}\n",
    "\n",
    "To find maximum reaction extent, we set $C_j=0$ to zero, yielding:\n",
    "\n",
    "\\begin{equation}\n",
    "\\xi_{max} = \\underset{\\in\\, positive,\\, non-zero}{min}\\{-C_{j, 0} / \\alpha_j\\}\n",
    "\\end{equation}"
   ]
  },
  {
   "cell_type": "code",
   "execution_count": 1,
   "metadata": {},
   "outputs": [
    {
     "name": "stdout",
     "output_type": "stream",
     "text": [
      "The maximum extent of reaction is 1.50 mol/L\n"
     ]
    }
   ],
   "source": [
    "import numpy as np\n",
    "\n",
    "Ca0 = 2.         # mol/L\n",
    "Cb0 = 3.         # mol/L\n",
    "C0 = np.array([Ca0, Cb0])\n",
    "alpha = np.array([-1, -2]) # stoichiometric coefficients\n",
    "\n",
    "xis = -C0/alpha\n",
    "xi_max = min([xi for xi in xis if xi > 0])\n",
    "\n",
    "print('The maximum extent of reaction is %.2f mol/L' % xi_max)"
   ]
  },
  {
   "cell_type": "markdown",
   "metadata": {},
   "source": [
    "$$r=kC_{a}C_{b}^{2}$$"
   ]
  },
  {
   "cell_type": "markdown",
   "metadata": {},
   "source": [
    "## Now, find the extent of reaction for a steady state 100 L CSTR with the feed and flow rate from above. (10 pts)\n",
    "<img src=\"E1P1B.png\" alt=\"Drawing\" style=\"width: 300px;\"/>\n"
   ]
  },
  {
   "cell_type": "code",
   "execution_count": 2,
   "metadata": {},
   "outputs": [
    {
     "name": "stdout",
     "output_type": "stream",
     "text": [
      "The extent of reaction at steady-state is 0.54 mol/L\n"
     ]
    }
   ],
   "source": [
    "from scipy.optimize import fsolve\n",
    "\n",
    "nu = 0.1*1000  # L/s\n",
    "k1 = 0.1       # L^2/mol^2/s\n",
    "V = 100.       # L\n",
    "\n",
    "def dXdt(C):\n",
    "    ''' Create a function to calculate the change in moles of species over time '''\n",
    "    Ca, Cb = C                           # mol/L\n",
    "    r = k1*Ca*Cb**2.                     # mol/L/s\n",
    "    dAdt = (Ca0-Ca)*nu + alpha[0]*r*V    # mol/s\n",
    "    dBdt = (Cb0-Cb)*nu + alpha[1]*r*V    # mol/s\n",
    "    return [dAdt, dBdt]\n",
    "\n",
    "# At steady-state, changes in concentration will all be zero. `fsolve` will find this steady-state for us\n",
    "C = fsolve(dXdt, [Ca0, Cb0])\n",
    "\n",
    "# We modify the first equation we described in Part 1 to calculate the extent of reaction\n",
    "xi = (C[0] - Ca0)/alpha[0]\n",
    "print('The extent of reaction at steady-state is %.2f mol/L' % xi)"
   ]
  },
  {
   "cell_type": "markdown",
   "metadata": {},
   "source": [
    "## Find the final extent of reaction for a 100 L PFR (10 pts)\n",
    "<img src=\"E1P1C.png\" alt=\"Drawing\" style=\"width: 300px;\"/>\n"
   ]
  },
  {
   "cell_type": "code",
   "execution_count": 3,
   "metadata": {},
   "outputs": [
    {
     "name": "stdout",
     "output_type": "stream",
     "text": [
      "The extent of reaction at the outlet is 0.72 mol/L\n"
     ]
    }
   ],
   "source": [
    "from scipy.integrate import odeint\n",
    "\n",
    "def dCdV(C, V):\n",
    "    ''' Create a function to calculate the change in species concentrations over the change in reactor volume '''\n",
    "    Ca, Cb = C         # mol/L\n",
    "    r = k1*Ca*Cb**2.   # mol/L/s\n",
    "    dCadV = alpha[0]*r/nu\n",
    "    dCbdV = alpha[1]*r/nu\n",
    "    return [dCadV, dCbdV]\n",
    "\n",
    "# Use `odeint` to integrate the concentration profile over volume\n",
    "V = 100.   # L\n",
    "Vspan = [0, V]\n",
    "C = odeint(dCdV, C0, Vspan)\n",
    "\n",
    "# Use the same equation as before to calculate the extent of reaction\n",
    "xi = (C[-1, 0] - Ca0)/alpha[0]\n",
    "print('The extent of reaction at the outlet is %.2f mol/L' % xi)"
   ]
  },
  {
   "cell_type": "markdown",
   "metadata": {},
   "source": [
    "## Our operators tell us that they really like working with CSTR's and suggest that you use several CSTR's in series.  The total volume of CSTR's should equal 100 L.  For example, if you have 4 CSTR's, then  each will have a volume of 25 L.  The outflow of each CSTR is the same as the inflow to the next CSTR.  The extent of reaction for each reactor can be solved based on the extent of reaction from the previous reactor (sequentially).  Calculate the extent of reaction for the four reactor situation. (20 pts)\n",
    "<img src=\"E1P1D.png\" alt=\"Drawing\" style=\"width: 500px;\"/>\n"
   ]
  },
  {
   "cell_type": "code",
   "execution_count": 4,
   "metadata": {},
   "outputs": [
    {
     "name": "stdout",
     "output_type": "stream",
     "text": [
      "The extent of reaction after 4 CSTRs in series is 0.66 mol/L\n"
     ]
    }
   ],
   "source": [
    "import matplotlib.pyplot as plt\n",
    "\n",
    "def extent(N):\n",
    "    ''' Create a function that calculates the extent of reaction given the number of CSTRs to use '''\n",
    "    # Calculate the per-reactor volume, `v`\n",
    "    v = V/N   # L\n",
    "    \n",
    "    def dXdt(array_in, xi_in):\n",
    "        '''\n",
    "        We will be using `fsolve` to calculate the extent of reaction at the outlet of each CSTR, and\n",
    "        so we used `xi` as a function argument.\n",
    "        \n",
    "        On of our constraint is that the systems are at steady-state,\n",
    "        and so we use fsolve to ensure that the changes in species counts per time are zero.\n",
    "        Another constraint is that we already know the extent of reaction at the inlet, since that\n",
    "        is governed by the previous reactor.\n",
    "        '''\n",
    "        # `fsolve` assumes that everything is a vector. We unpack the extent of reaction here\n",
    "        # so that we can treat it as a float\n",
    "        \n",
    "        #2018 edit: fsolve now requires that the length of the input \n",
    "        # vector match the length of the output vector. So, we will only\n",
    "        # use the first element in the input array. The second element will \n",
    "        # not matter.\n",
    "        xi_out = array_in[0]\n",
    "        \n",
    "        # Calculate the inlet concentrations and the outlet concentrations [mol/L]\n",
    "        Ca_in = Ca0 + alpha[0]*xi_in\n",
    "        Cb_in = Cb0 + alpha[1]*xi_in\n",
    "        Ca = Ca0 + alpha[0]*xi_out\n",
    "        Cb = Cb0 + alpha[1]*xi_out\n",
    "        # Use these concentrations to calculate the reaction rate [mol/L/s]\n",
    "        r = k1*Ca*Cb**2.\n",
    "        # Use both the reaction rate and flow streams to calculate the differentials [mol/s]\n",
    "        dAdt = (Ca_in-Ca)*nu + alpha[0]*r*v\n",
    "        dBdt = (Cb_in-Cb)*nu + alpha[1]*r*v\n",
    "\n",
    "        return [dAdt, dBdt]\n",
    "    \n",
    "    # Solve the first reactor manually to initialize the iterations. Note that the second\n",
    "    # argument to `fsolve` is our initial guess, while the third argument is our setting\n",
    "    # for the extent of reaction at the inlet\n",
    "    \n",
    "    #2018 edit: Our initial guess for xi_out is 0.3. We make it a length-2\n",
    "    # array so that fsolve is happy with length-2 input and output. \n",
    "    # the second unpacked value, discard, isn't used.\n",
    "    xi, discard = fsolve(dXdt, [0.3,0], 0)\n",
    "    \n",
    "    # Our output, `xi_out`, will be a list of the extents of reactions at the outlet of each\n",
    "    # of the reactors. We initialize that list here.\n",
    "    xi_out = [xi]\n",
    "    \n",
    "    # Iterate through the remaining reactors and store the results in our output, `xi_out`\n",
    "    for i in range(N-1):\n",
    "        xi,b = fsolve(dXdt, [xi_out[-1],0], xi_out[-1])\n",
    "        xi_out += [xi]\n",
    "\n",
    "    return xi_out\n",
    "\n",
    "print('The extent of reaction after 4 CSTRs in series is %.2f mol/L' % extent(4)[-1])"
   ]
  },
  {
   "cell_type": "markdown",
   "metadata": {},
   "source": [
    "## Plot the final extent of reaction for this approach from 1 to 10 reactors, and compare to the conversions from the CSTR and PFR examples above. (9 pts)"
   ]
  },
  {
   "cell_type": "code",
   "execution_count": null,
   "metadata": {},
   "outputs": [],
   "source": [
    "Nrange = range(1, 11)\n",
    "extent_out = [extent(N)[-1] for N in Nrange]\n",
    "\n",
    "plt.plot(Nrange, extent_out)\n",
    "plt.xlabel('# CSTR Reactors in Series')\n",
    "plt.ylabel('Extent of Reaction [mol/L]')\n",
    "plt.show()"
   ]
  },
  {
   "cell_type": "markdown",
   "metadata": {},
   "source": [
    "## We are considering adding a membrane to the PFR.  We have a few options.  For each, answer qualitatively if you think the conversion of A would increase, decrease, or stay the same, and why: (2 pts each)\n",
    "- A membrane that allows A to be added slowly through the side of the PFR (w/ pure B inlet), total molar flow rate of A & B the same\n",
    "- A membrane that allows B to be added slowly through the side of the PFR (w/ pure A inlet), total molar flow rate of A & B the same\n",
    "- A membrane that allows C to be removed continuously through the side of the PDF"
   ]
  },
  {
   "cell_type": "markdown",
   "metadata": {},
   "source": [
    "Answers:\n",
    "1. This would decrease the conversion, because it would effectively reduce the reaction rates by reducing the inlet concentration of A.\n",
    "2. This would decrease the conversion, because it would effectively reduce the reaction rates by reducing the inlet concentration of B.\n",
    "3. This would not affect the reaction rate, because the addition or subtraction of the product does not affect the reaction rate of a non-reversible reaction... but since all real-world reactions are reversible (to some extent), we will also accept answers that claim that conversion will increase due to Le Chatelier's Principle."
   ]
  },
  {
   "cell_type": "markdown",
   "metadata": {},
   "source": [
    "# Science/python questions (2 pts)"
   ]
  },
  {
   "cell_type": "markdown",
   "metadata": {},
   "source": [
    "There were some good questions during the in-class assignment on Wednesday. Post one question on Piazza on either reaction engineering or python questions."
   ]
  },
  {
   "cell_type": "markdown",
   "metadata": {},
   "source": [
    "# PFR with changing number of moles"
   ]
  },
  {
   "cell_type": "markdown",
   "metadata": {},
   "source": [
    "## Consider the reaction $\\ce{2A ->[k_1] 4B ->[k_2] C}$ in a 5 L PFR. Both reactions are elementary, $k_1=5$[1/M/min], $k_2=1000$[1/M$^3$/min] The inlet flow rate is 100% A at 10 bar and 500K. The initial flow rate is 1 [L/min]. Solve and plot the molar flow rates of each species. Assume the reactor is isothermal and isobaric, and all gases are ideal."
   ]
  },
  {
   "cell_type": "code",
   "execution_count": null,
   "metadata": {},
   "outputs": [],
   "source": [
    "import numpy as np\n",
    "from scipy.integrate import odeint\n",
    "v0 = 1    # L / min\n",
    "k1 = 5 # 1 / M / min\n",
    "k2 = 1000 # 1/ M^3 / min\n",
    "P = 10 # bar\n",
    "T = 500 # K\n",
    "R = 8.314e-2 # L bar / K / mol\n",
    "\n",
    "Fa0 = P*v0/R/T\n",
    "Ft0 = Fa0\n",
    "\n",
    "def dFdV(F, V):\n",
    "\n",
    "    Fa, Fb, Fc = F    # we only need Fa for the rate law\n",
    "    Ft = sum(F)       # total flow rate\n",
    "    v = v0 * Ft / Ft0\n",
    "\n",
    "    Ca = Fa / v\n",
    "    Cb = Fb / v\n",
    "\n",
    "    r1 = k1 * Ca **2.\n",
    "    r2 = k2 * Cb **4.\n",
    "    ra = -2*r1\n",
    "    rb = 4*r1 - 4*r2\n",
    "    rc = r2\n",
    "\n",
    "    dFadV = ra\n",
    "    dFbdV = rb\n",
    "    dFcdV = rc\n",
    "\n",
    "    return [dFadV, dFbdV, dFcdV]\n",
    "\n",
    "\n",
    "Vspan = np.linspace(0, 5)  # L\n",
    "\n",
    "# Initial conditions, one for each ODE\n",
    "F0 = [Fa0, 0, 0]\n",
    "\n",
    "sol = odeint(dFdV, F0, Vspan)\n",
    "\n",
    "import matplotlib.pyplot as plt\n",
    "Fa = sol[:,0]\n",
    "Fb = sol[:,1]\n",
    "Fc = sol[:,2]\n",
    "\n",
    "plt.plot(Vspan, Fa,\n",
    "         Vspan, Fb,\n",
    "         Vspan, Fc)\n",
    "\n",
    "plt.xlabel('Volume (L)')\n",
    "plt.ylabel('F$_j$ (mol/min)')\n",
    "\n",
    "plt.legend(['A', 'B', 'C'])\n",
    "plt.show()"
   ]
  },
  {
   "cell_type": "markdown",
   "metadata": {},
   "source": [
    "## Plot the volumetric flow along the length of the reactor."
   ]
  },
  {
   "cell_type": "code",
   "execution_count": null,
   "metadata": {},
   "outputs": [],
   "source": [
    "Fa = sol[:,0]\n",
    "Fb = sol[:,1]\n",
    "Fc = sol[:,2]\n",
    "Ft = np.sum(sol, axis=1)       # total flow rate\n",
    "v = v0 * Ft / Ft0\n",
    "\n",
    "plt.plot(Vspan, v)\n",
    "\n",
    "plt.xlabel('Volume (L)')\n",
    "plt.ylabel('v (L/min)')\n",
    "\n",
    "plt.show()"
   ]
  },
  {
   "cell_type": "markdown",
   "metadata": {},
   "source": [
    "## Bonus (1 pt) Plot both 3.1 and 3.2 on the same graph, with molar flow rates on the left axis and the flow rate on the y-axis. Hint: one way to do this (among several, https://matplotlib.org/examples/api/two_scales.html)"
   ]
  },
  {
   "cell_type": "code",
   "execution_count": null,
   "metadata": {},
   "outputs": [],
   "source": [
    "fig, ax1 = plt.subplots()\n",
    "\n",
    "Fa = sol[:,0]\n",
    "Fb = sol[:,1]\n",
    "Fc = sol[:,2]\n",
    "\n",
    "ax1.plot(Vspan, Fa,\n",
    "         Vspan, Fb,\n",
    "         Vspan, Fc)\n",
    "\n",
    "ax1.set_xlabel('Volume (L)')\n",
    "ax1.set_ylabel('F$_j$ (mol/min)')\n",
    "\n",
    "ax2 = ax1.twinx()\n",
    "\n",
    "Fa = sol[:,0]\n",
    "Fb = sol[:,1]\n",
    "Fc = sol[:,2]\n",
    "Ft = np.sum(sol, axis=1)       # total flow rate\n",
    "v = v0 * Ft / Ft0\n",
    "\n",
    "plt.plot(Vspan, v, 'r')\n",
    "\n",
    "ax2.set_ylabel('v (L/min)', color='r')\n",
    "\n",
    "fig.tight_layout()\n",
    "plt.show()"
   ]
  },
  {
   "cell_type": "markdown",
   "metadata": {},
   "source": [
    "## Read through the rest of the lecture from Wednesday. Assuming the reactor is isothermal but has a pressure drop from a packed bed and $\\alpha=0.2$[1/L], redo the calculations for the flow rates, volumetric flow rate, and pressure"
   ]
  },
  {
   "cell_type": "code",
   "execution_count": null,
   "metadata": {},
   "outputs": [],
   "source": [
    "import numpy as np\n",
    "from scipy.integrate import odeint\n",
    "v0 = 1    # L / min\n",
    "k1 = 5 # 1 / M / min\n",
    "k2 = 1000 # 1/ M^3 / min\n",
    "P0 = 10 # bar\n",
    "T = 500 # K\n",
    "R = 8.314e-2 # L bar / K / mol\n",
    "\n",
    "Fa0 = P0*v0/R/T\n",
    "Ft0 = Fa0\n",
    "\n",
    "alpha = 0.2 #1/L\n",
    "\n",
    "def dFdV(F, V):\n",
    "\n",
    "    Fa, Fb, Fc, y = F    # we only need Fa for the rate law\n",
    "    \n",
    "    P = y*P0\n",
    "\n",
    "    Ft = Fa + Fb + Fc # total flow rate\n",
    "    v = v0 * Ft / Ft0 * P0 / P\n",
    "    \n",
    "\n",
    "    Ca = Fa / v\n",
    "    Cb = Fb / v\n",
    "\n",
    "    r1 = k1 * Ca **2.\n",
    "    r2 = k2 * Cb **4.\n",
    "    ra = -2*r1\n",
    "    rb = 4*r1 - 4*r2\n",
    "    rc = r2\n",
    "\n",
    "    dFadV = ra\n",
    "    dFbdV = rb\n",
    "    dFcdV = rc\n",
    "    \n",
    "    dPdV = - alpha / 2 / y * Ft / Ft0\n",
    "\n",
    "    return [dFadV, dFbdV, dFcdV, dPdV]\n",
    "\n",
    "\n",
    "Vspan = np.linspace(0, 5)  # L\n",
    "\n",
    "# Initial conditions, one for each ODE\n",
    "F0 = [Fa0, 0, 0, 1]\n",
    "\n",
    "sol = odeint(dFdV, F0, Vspan)\n",
    "\n",
    "import matplotlib.pyplot as plt\n",
    "Fa = sol[:,0]\n",
    "Fb = sol[:,1]\n",
    "Fcf = sol[:,2]\n",
    "P = sol[:,3]*P0\n",
    "Ft = Fa+ Fb+ Fcf\n",
    "\n",
    "plt.plot(Vspan, Fa,\n",
    "         Vspan, Fb,\n",
    "         Vspan, Fcf)\n",
    "\n",
    "plt.xlabel('Volume (L)')\n",
    "plt.ylabel('F$_j$ (mol/min)')\n",
    "\n",
    "plt.legend(['A', 'B', 'C'])\n",
    "plt.show()\n",
    "\n",
    "v= v0 * Ft / Ft0 * P0 / P\n",
    "plt.plot(Vspan, v)\n",
    "plt.xlabel('Volume (L)')\n",
    "plt.ylabel('volumteric flow rate L/min')\n",
    "plt.show()\n",
    "\n",
    "\n",
    "plt.plot(Vspan, P)\n",
    "\n",
    "plt.xlabel('Volume (L)')\n",
    "plt.ylabel('Pressure [bar]')\n",
    "plt.show()"
   ]
  },
  {
   "cell_type": "markdown",
   "metadata": {},
   "source": [
    "## Make a plot compare the molar flow rate profile for C with and without the pressure drop."
   ]
  },
  {
   "cell_type": "code",
   "execution_count": null,
   "metadata": {},
   "outputs": [],
   "source": [
    "plt.plot(Vspan, Fc,\n",
    "         Vspan, Fcf)\n",
    "\n",
    "plt.xlabel('Volume (L)')\n",
    "plt.ylabel('F$_c$ (mol/min)')\n",
    "\n",
    "plt.legend(['Without pressure drop','With pressure drop'])\n",
    "plt.show()\n"
   ]
  },
  {
   "cell_type": "code",
   "execution_count": null,
   "metadata": {},
   "outputs": [],
   "source": []
  }
 ],
 "metadata": {
  "kernelspec": {
   "display_name": "Python 3",
   "language": "python",
   "name": "python3"
  },
  "language_info": {
   "codemirror_mode": {
    "name": "ipython",
    "version": 3
   },
   "file_extension": ".py",
   "mimetype": "text/x-python",
   "name": "python",
   "nbconvert_exporter": "python",
   "pygments_lexer": "ipython3",
   "version": "3.6.3"
  },
  "toc": {
   "base_numbering": 1,
   "nav_menu": {
    "height": "173px",
    "width": "252px"
   },
   "number_sections": true,
   "sideBar": true,
   "skip_h1_title": false,
   "title_cell": "Table of Contents",
   "title_sidebar": "Contents",
   "toc_cell": false,
   "toc_position": {},
   "toc_section_display": "block",
   "toc_window_display": false
  }
 },
 "nbformat": 4,
 "nbformat_minor": 2
}
