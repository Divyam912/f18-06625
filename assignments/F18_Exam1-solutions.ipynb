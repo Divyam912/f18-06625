{
 "cells": [
  {
   "cell_type": "markdown",
   "metadata": {},
   "source": [
    "$$\\require{mhchem}$$"
   ]
  },
  {
   "cell_type": "markdown",
   "metadata": {},
   "source": [
    "# Problem 1. Transient CSTR (60 pt)\n",
    "\n",
    "Consider two competing reactions:\n",
    "\\begin{align*}\n",
    "\\ce{A + 2B ->[k_1] C}\\\\\n",
    "\\ce{A + B ->[k_2] D}\n",
    "\\end{align*}\n",
    "where we want to maximize the amount of species D. Both reactions are elementary. $k_1=0.1$/M^2/min. $k_2=0.2$/M/min. The volume is 200 L. The inlet flow rate is 5 L/min and inlet concentrations are C_A = 5M, C_B = 10M. The tank is initially filled with water (all concentrations = 0). You can neglect volume expansion/etc with changing number of moles due to the aqueous conditions."
   ]
  },
  {
   "cell_type": "markdown",
   "metadata": {},
   "source": [
    "## 1.1 Write the mol balance for the two species in the CSTR (10 pt)"
   ]
  },
  {
   "cell_type": "markdown",
   "metadata": {},
   "source": [
    "The general form of the mole balance for the four species in the CSTR is Accumulation = In -Out + Generation, thus: \n",
    "\\begin{align*}\n",
    "    \\frac{dN_A}{dt} &= F_{A0} - F_A + r_AV \\\\\n",
    "    \\frac{dN_B}{dt} &= F_{B0} - F_B + r_BV \\\\\n",
    "    \\frac{dN_C}{dt} &= -F_C + r_CV \\\\\n",
    "    \\frac{dN_D}{dt} &= -F_D + r_DV\n",
    "\\end{align*} \n",
    "\n",
    "Where:  $F_{i0} = v C_{i0}$, $F_i = v C_i$\n",
    "\n",
    "\\begin{align*}\n",
    "r_1 &= k_1C_AC_B^2 \\\\\n",
    "r_2 &= k_2C_AC_B \\\\\n",
    "r_A &= -r_1 - r_2 \\\\\n",
    "r_B &= -2r_1 - r_2 \\\\\n",
    "r_C &= r_1 \\\\\n",
    "r_D &= r_2\n",
    "\\end{align*}\n"
   ]
  },
  {
   "cell_type": "markdown",
   "metadata": {},
   "source": [
    "## 1.2 For a single CSTR, calculate and plot the concentrations of all four species (A, B, C, and D) in the reactor from t=0 to 60 mins. (20 pt)."
   ]
  },
  {
   "cell_type": "code",
   "execution_count": 1,
   "metadata": {},
   "outputs": [
    {
     "data": {
      "text/plain": [
       "<Figure size 640x480 with 1 Axes>"
      ]
     },
     "metadata": {},
     "output_type": "display_data"
    }
   ],
   "source": [
    "import numpy as np\n",
    "\n",
    "k1 = 0.1 #1/M^2/min\n",
    "k2 = 0.2 #1/M/min\n",
    "\n",
    "V = 200 #L\n",
    "v0 = 5 #L/min\n",
    "Cain = 5\n",
    "Cbin = 10\n",
    "C0 = np.array([0,0,0,0])\n",
    "\n",
    "def dNdt(N,t):\n",
    "    Ca, Cb, Cc, Cd = N/V\n",
    "    r1 = k1 * Ca * Cb**2\n",
    "    r2 = k2 * Ca * Cb\n",
    "    \n",
    "    dNadt = (-r1 - r2)*V + v0 * (Cain - Ca)\n",
    "    dNbdt = (-2*r1 - r2)*V + v0 *(Cbin - Cb)\n",
    "    dNcdt = r1*V -v0 * Cc\n",
    "    dNddt = r2*V -v0*Cd\n",
    "    \n",
    "    return [dNadt,dNbdt,dNcdt,dNddt]\n",
    "\n",
    "from scipy.integrate import odeint\n",
    "import numpy as np\n",
    "import matplotlib.pyplot as plt\n",
    "\n",
    "tspan = np.linspace(0,60,100)\n",
    "sol = odeint(dNdt, C0*V, tspan)\n",
    "\n",
    "plt.plot(tspan,sol/V)\n",
    "plt.legend(['A','B','C','D'])\n",
    "plt.xlabel('Time [min]')\n",
    "plt.ylabel('Concentration [M]')\n",
    "plt.show()"
   ]
  },
  {
   "cell_type": "code",
   "execution_count": null,
   "metadata": {},
   "outputs": [],
   "source": []
  },
  {
   "cell_type": "markdown",
   "metadata": {},
   "source": [
    "## 1.3 Calculate the selectivity, as defined as $C_D/(C_C+C_D)$ in the outlet stream for the first 60 minutes. (10 pt)\n",
    "\n"
   ]
  },
  {
   "cell_type": "code",
   "execution_count": 2,
   "metadata": {},
   "outputs": [
    {
     "name": "stderr",
     "output_type": "stream",
     "text": [
      "/global/common/cori/software/python/3.6-anaconda-5.2/lib/python3.6/site-packages/ipykernel/__main__.py:1: RuntimeWarning: invalid value encountered in true_divide\n",
      "  if __name__ == '__main__':\n"
     ]
    },
    {
     "data": {
      "image/png": "[encoded data removed]",
      "text/plain": [
       "<Figure size 432x288 with 1 Axes>"
      ]
     },
     "metadata": {
      "needs_background": "light"
     },
     "output_type": "display_data"
    }
   ],
   "source": [
    "plt.plot(tspan,sol[:,3]/(sol[:,2]+sol[:,3]))\n",
    "plt.xlabel('Time [min]')\n",
    "plt.ylabel('Selectivity of D')\n",
    "plt.show()\n",
    "#print(sol[:,3]/(sol[:,2]+sol[:,3]))"
   ]
  },
  {
   "cell_type": "markdown",
   "metadata": {},
   "source": [
    "## 1.4 Consider a membrane CSTR, where the feed stream contains pure $A$, and $B$ can permeate through the walls of the CSTR. The CSTR area is 10 m$^2$, the mass transport constant is $0.3 m/s$, and the concentration of B outside the reactor is 10 M. The volume is of the CSTR is still 200 L. The inlet flow rate is still 5 L/min and inlet concentration of A is C$_A$ = 5M.Write the new mol balance for each species in the CSTR. (10 pt)\n",
    "\n",
    "![img](E1P1_2018.png)"
   ]
  },
  {
   "cell_type": "markdown",
   "metadata": {},
   "source": [
    "\\begin{align}\n",
    "Accumulation &=& In - Out + Generation \\\\\n",
    "\\frac{dN_A}{dt} &=& F_{A0} - F_A + (-r_1-r_2) V \\\\\n",
    "\\frac{dN_B}{dt} &=& R_B - F_B + (-2r_1-r_2)V \\\\\n",
    "\\frac{dN_C}{dt} &=& -F_C + r_1V \\\\\n",
    "\\frac{dN_D}{dt} &=& -F_D + r_2V\n",
    "\\end{align}\n",
    "\n",
    "Where:\n",
    "\\begin{align}\n",
    "F_{i0}&=& vC_{i0}\\\\\n",
    "F_i &=& v C_i\\\\\n",
    "r1 &=& k1* C_A* C_B^2\\\\\n",
    "r2 &=& k1* C_A* C_B\\\\\n",
    "R_B &=& \\frac{Ak_D}{V/1000}(C_{B,s} - C_B)\n",
    "\\end{align}\n",
    "\n",
    "- k$_{D}$ is the diffusion coefficient of B in m/min.\n",
    "\n",
    "- C$_{B,s}$ is the concentration of  B  outside the reactor.\n",
    "\n",
    "- division of $V$ by 1000 to convert the volume with unit of $m^3$"
   ]
  },
  {
   "cell_type": "markdown",
   "metadata": {},
   "source": [
    "## 1.5 Solve for the new transient profile with the membrane included using the information from 1.4. & Plot the concentration profiles of all four species in the reactor.(10 pt)"
   ]
  },
  {
   "cell_type": "markdown",
   "metadata": {},
   "source": [
    "With kD = 0.3 m/s:"
   ]
  },
  {
   "cell_type": "code",
   "execution_count": 3,
   "metadata": {},
   "outputs": [
    {
     "data": {
      "image/png": "[encoded data removed]",
      "text/plain": [
       "<Figure size 432x288 with 1 Axes>"
      ]
     },
     "metadata": {
      "needs_background": "light"
     },
     "output_type": "display_data"
    }
   ],
   "source": [
    "k1 = 0.1 #1/M^2/min\n",
    "k2 = 0.2 #1/M/min\n",
    "\n",
    "V = 200 #L\n",
    "v0 = 5 #L/min\n",
    "Cain = 5\n",
    "Cbin = 0\n",
    "C0 = np.array([0,0,0,0])\n",
    "kD = 0.3*60 #m/min\n",
    "A = 10 #m^2\n",
    "a = A/(V/1000) # area / volume\n",
    "Cbo = 10 #M\n",
    "\n",
    "def dNdt(N,t):\n",
    "    Ca, Cb, Cc, Cd = N/V\n",
    "    r1 = k1 * Ca * Cb**2\n",
    "    r2 = k2 * Ca * Cb\n",
    "    \n",
    "    dNadt = (-r1 - r2)*V + v0 * (Cain - Ca)\n",
    "    dNbdt = V*(-2*r1 - r2) + v0 *(Cbin - Cb) + kD * a * (Cbo-Cb) * V\n",
    "    dNcdt = r1*V -v0 * Cc\n",
    "    dNddt = r2*V -v0*Cd\n",
    "    \n",
    "    return [dNadt,dNbdt,dNcdt,dNddt]\n",
    "\n",
    "from scipy.integrate import odeint\n",
    "import numpy as np\n",
    "import matplotlib.pyplot as plt\n",
    "\n",
    "tspan = np.linspace(0,60,100)\n",
    "sol = odeint(dNdt, C0*V, tspan)\n",
    "\n",
    "plt.plot(tspan,sol/V)\n",
    "plt.legend(['A','B','C','D'])\n",
    "plt.xlabel('Time [min]')\n",
    "plt.ylabel('Concentration [M]')\n",
    "plt.show()"
   ]
  },
  {
   "cell_type": "markdown",
   "metadata": {},
   "source": [
    "With kD = 0.3 m/min:"
   ]
  },
  {
   "cell_type": "code",
   "execution_count": 4,
   "metadata": {},
   "outputs": [
    {
     "data": {
      "image/png": "[encoded data removed]",
      "text/plain": [
       "<Figure size 432x288 with 1 Axes>"
      ]
     },
     "metadata": {
      "needs_background": "light"
     },
     "output_type": "display_data"
    }
   ],
   "source": [
    "k1 = 0.1 #1/M^2/min\n",
    "k2 = 0.2 #1/M/min\n",
    "\n",
    "V = 200 #L\n",
    "v0 = 5 #L/min\n",
    "Cain = 5\n",
    "Cbin = 0\n",
    "C0 = np.array([0,0,0,0])\n",
    "kD = 0.3 #m/min\n",
    "A = 10 #m^2\n",
    "a = A/(V/1000) # area / volume\n",
    "Cbo = 10 #M\n",
    "\n",
    "def dNdt(N,t):\n",
    "    Ca, Cb, Cc, Cd = N/V\n",
    "    r1 = k1 * Ca * Cb**2\n",
    "    r2 = k2 * Ca * Cb\n",
    "    \n",
    "    dNadt = (-r1 - r2)*V + v0 * (Cain - Ca)\n",
    "    dNbdt = V*(-2*r1 - r2) + v0 *(Cbin - Cb) + kD * a * (Cbo-Cb) * V\n",
    "    dNcdt = r1*V -v0 * Cc\n",
    "    dNddt = r2*V -v0*Cd\n",
    "    \n",
    "    return [dNadt,dNbdt,dNcdt,dNddt]\n",
    "\n",
    "from scipy.integrate import odeint\n",
    "import numpy as np\n",
    "import matplotlib.pyplot as plt\n",
    "\n",
    "tspan = np.linspace(0,60,100)\n",
    "sol = odeint(dNdt, C0*V, tspan)\n",
    "\n",
    "plt.plot(tspan,sol/V)\n",
    "plt.legend(['A','B','C','D'])\n",
    "plt.xlabel('Time [min]')\n",
    "plt.ylabel('Concentration [M]')\n",
    "plt.show()"
   ]
  },
  {
   "cell_type": "markdown",
   "metadata": {},
   "source": [
    "# Problem 2. PFR (40 points)\n",
    "\n",
    "Consider the system \n",
    "\\begin{align*}\n",
    "\\ce{A ->[k_1] 6B}\n",
    "\\end{align*}\n",
    "in the gas phase at 500 K and 10 atm. The inlet is 5 mol/s pure A. The reactor volume is 1200 L. R=0.082 L*atm/mol/K. The reaction is elementary and $k_1=0.1/s$"
   ]
  },
  {
   "cell_type": "markdown",
   "metadata": {},
   "source": [
    "## 2.1 Calculate the inlet volumetric flow rate and write the mole balance assuming no pressure drop (10 pt)"
   ]
  },
  {
   "cell_type": "code",
   "execution_count": 5,
   "metadata": {},
   "outputs": [
    {
     "name": "stdout",
     "output_type": "stream",
     "text": [
      "20.500000000000004\n"
     ]
    }
   ],
   "source": [
    "F0 = 5 #mol/s\n",
    "R = 0.082 #L*atom/mol/K.\n",
    "P0 = 10 #atm\n",
    "v0 = F0 * R * 500 / P0\n",
    "\n",
    "print(v0)"
   ]
  },
  {
   "cell_type": "markdown",
   "metadata": {},
   "source": [
    "\\begin{align*}\n",
    "r = k_1C_A \\\\\n",
    "\\frac{dF_A}{dV} &= -r \\\\\n",
    "\\frac{dF_B}{dV} &= 6r\n",
    "\\end{align*}\n"
   ]
  },
  {
   "cell_type": "markdown",
   "metadata": {},
   "source": [
    "## 2.2 Solve for the molar flow rate of each species along the volume of the reactor. (20 pt)"
   ]
  },
  {
   "cell_type": "code",
   "execution_count": 6,
   "metadata": {},
   "outputs": [
    {
     "data": {
      "image/png": "[encoded data removed]",
      "text/plain": [
       "<Figure size 432x288 with 1 Axes>"
      ]
     },
     "metadata": {
      "needs_background": "light"
     },
     "output_type": "display_data"
    }
   ],
   "source": [
    "V = 1200 #L\n",
    "k1 = 0.1 #1/s\n",
    "F0 = [5, 0] #M\n",
    "Ft0 = np.sum(F0)\n",
    "\n",
    "def dFdV(F,V):\n",
    "    Fa, Fb = F\n",
    "    Ft = Fa + Fb\n",
    "    v = v0*Ft/Ft0\n",
    "    Ca = Fa/v\n",
    "    r1 = k1 * Ca\n",
    "    dFadV = -r1\n",
    "    dFbdV = 6*r1\n",
    "    return [dFadV,dFbdV]\n",
    "\n",
    "Vspan = np.linspace(0,V,100)\n",
    "sol = odeint(dFdV,F0,Vspan)\n",
    "\n",
    "plt.plot(Vspan,sol)\n",
    "plt.xlabel('Volume [L]')\n",
    "plt.ylabel('Molar flow rate [mol/s]')\n",
    "plt.show()\n"
   ]
  },
  {
   "cell_type": "markdown",
   "metadata": {},
   "source": [
    "## 2.3 Would pressure drop along the length of the reactor increase or decrease the final conversion? Why? (5 pt)"
   ]
  },
  {
   "cell_type": "markdown",
   "metadata": {},
   "source": [
    "Pressure drop decreases the conversion.\n",
    "It would decrease the flow rate since the feed would be further diluted and the concentration decreased."
   ]
  },
  {
   "cell_type": "markdown",
   "metadata": {},
   "source": [
    "##  2.4 Solve for and plot the pressure with profile pressure drop effects and a combined coefficient $\\alpha=0.00005$/L. (10 pt)"
   ]
  },
  {
   "cell_type": "code",
   "execution_count": 7,
   "metadata": {
    "scrolled": false
   },
   "outputs": [
    {
     "data": {
      "image/png": "[encoded data removed]",
      "text/plain": [
       "<Figure size 432x288 with 1 Axes>"
      ]
     },
     "metadata": {
      "needs_background": "light"
     },
     "output_type": "display_data"
    },
    {
     "data": {
      "image/png": "[encoded data removed]",
      "text/plain": [
       "<Figure size 432x288 with 1 Axes>"
      ]
     },
     "metadata": {
      "needs_background": "light"
     },
     "output_type": "display_data"
    }
   ],
   "source": [
    "V = 1200 #L\n",
    "k1 = 0.1 #1/s\n",
    "F0 = [5, 0] #M\n",
    "alpha = 0.00005 #/L\n",
    "#Ft0 = np.sum(F0)\n",
    "P0 = 10\n",
    "T = 500\n",
    "def dFdV(F,V):\n",
    "    Fa, Fb, y = F\n",
    "    #Ft = np.sum(F)\n",
    "    Ft = Fa + Fb\n",
    "    v = v0*Ft/Ft0/y\n",
    "    Ca = Fa/v\n",
    "    r1 = k1 * Ca\n",
    "    dFadV = -r1\n",
    "    dFbdV = 6*r1\n",
    "    dydV = -alpha/(2*y)*Ft/Ft0\n",
    "    return [dFadV,dFbdV, dydV]\n",
    "\n",
    "Vspan = np.linspace(0,V,100)\n",
    "sol = odeint(dFdV,F0+[1],Vspan)\n",
    "plt.plot(Vspan,sol[:,0:2])\n",
    "plt.xlabel('Volume [L]')\n",
    "plt.ylabel('Molar flow rate [mol/s]')\n",
    "plt.show()\n",
    "plt.plot(Vspan,sol[:,2]*P0)\n",
    "plt.xlabel('Volume [L]')\n",
    "plt.ylabel('Pressure [atm]')\n",
    "plt.show()\n"
   ]
  },
  {
   "cell_type": "markdown",
   "metadata": {},
   "source": [
    "##  Calculate the coefficient $\\alpha$ ($L^{-1}$)  that halves the inlet pressure at the end of the reactor. ($P_{exit}$ = 0.5$P_{in}$) "
   ]
  },
  {
   "cell_type": "code",
   "execution_count": 8,
   "metadata": {},
   "outputs": [
    {
     "name": "stdout",
     "output_type": "stream",
     "text": [
      "[ 0.00016376]\n"
     ]
    }
   ],
   "source": [
    "from scipy.optimize import fsolve\n",
    "\n",
    "V = 1200 #L\n",
    "k1 = 0.1 #1/s\n",
    "F0 = [5, 0] #M\n",
    "Ft0 = np.sum(F0)\n",
    "\n",
    "def dFdV(F,V, alpha):\n",
    "    Fa, Fb, y = F\n",
    "    Ft = Fa+Fb\n",
    "    v = v0*Ft/Ft0/y\n",
    "    Ca = Fa/v\n",
    "    r1 = k1 * Ca\n",
    "    dFadV = -r1\n",
    "    dFbdV = 6*r1\n",
    "    dydV = -alpha/(2*y)*Ft/Ft0\n",
    "    return [dFadV,dFbdV, dydV]\n",
    "\n",
    "def finding(alpha):\n",
    "    Vspan = np.linspace(0, V, 100)\n",
    "    sol = odeint(dFdV,F0+[1],Vspan,args=(alpha,))\n",
    "    return sol[:,2][-1] - 0.5\n",
    "\n",
    "alpha_solved = fsolve(finding, 0.00005)\n",
    "print(alpha_solved)"
   ]
  },
  {
   "cell_type": "code",
   "execution_count": null,
   "metadata": {},
   "outputs": [],
   "source": []
  }
 ],
 "metadata": {
  "kernelspec": {
   "display_name": "Python [default]",
   "language": "python",
   "name": "python3"
  },
  "language_info": {
   "codemirror_mode": {
    "name": "ipython",
    "version": 3
   },
   "file_extension": ".py",
   "mimetype": "text/x-python",
   "name": "python",
   "nbconvert_exporter": "python",
   "pygments_lexer": "ipython3",
   "version": "3.6.5"
  },
  "toc": {
   "base_numbering": 1,
   "nav_menu": {
    "height": "173px",
    "width": "252px"
   },
   "number_sections": true,
   "sideBar": true,
   "skip_h1_title": false,
   "title_cell": "Table of Contents",
   "title_sidebar": "Contents",
   "toc_cell": false,
   "toc_position": {},
   "toc_section_display": "block",
   "toc_window_display": false
  }
 },
 "nbformat": 4,
 "nbformat_minor": 2
}
