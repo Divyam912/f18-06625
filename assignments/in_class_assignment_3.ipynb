{
 "cells": [
  {
   "cell_type": "markdown",
   "metadata": {},
   "source": [
    "$$\\require{mhchem}$$       "
   ]
  },
  {
   "cell_type": "markdown",
   "metadata": {},
   "source": [
    "- Label the x/y axis of graphs (and legend if appropriate)\n",
    "- Comment your code so we understand what you're doing\n",
    "- 'print' your identified solutions / fitted constants with units"
   ]
  },
  {
   "cell_type": "markdown",
   "metadata": {},
   "source": [
    "# Transient, non-isothermal reactor (50 pt)"
   ]
  },
  {
   "cell_type": "markdown",
   "metadata": {},
   "source": [
    "The liquid phase reactions\n",
    "\\begin{align*}\n",
    "\\ce{A->B}\\\\\n",
    "\\ce{A->C}\n",
    "\\end{align*}\n",
    "are each first order in the concentration of A.  The feed to a nonisothermal transient CSTR contains pure A at 45 $^{\\circ}$C and 5 mol/L.  We want to operate this reactor such that the selectivity to B is greater than the selectivity to C.  The following parameters apply:\n",
    "\n",
    "| Parameter       | Value                                    | Units   |\n",
    "|-----------------|------------------------------------------|---------|\n",
    "| $M_t$           | 93,200                                   | g/min   |\n",
    "| $\\Delta H_{r1}$ | -12,000                                  | cal/mol |\n",
    "| $\\Delta H_{r2}$ | -15,000                                  | cal/mol |\n",
    "| V               | 1,000                                    | L       |\n",
    "| $Q_f$           | 100                                      | L/min   |\n",
    "| $C_{pf}$        | 0.22                                     | cal/g/K |\n",
    "| $k_1$           | $3.16 \\times 10^{14}\\exp (-12,500 [K]/T)$ | 1/min   |\n",
    "| $k_2$           | $2.52 \\times 10^{9}\\exp (-8,500 [K]/T) $  | 1/min   |\n",
    "\n",
    "The CSTR has a cooling bath at 50 $^{\\circ}$C and a $Ua$ of 100,000 cal/min/K.  The reactor initially starts at 45 $^{\\circ}$C and C$_a$=C$_b$=C$_c$=0 M. The total mass in the reactor is $V M_t / Q_f$."
   ]
  },
  {
   "cell_type": "markdown",
   "metadata": {},
   "source": [
    "#### If you want to increase selectivity in the reactor ($C_B/C_C$), should you increase or decrease the temperature in the reactor? (5 pt)"
   ]
  },
  {
   "cell_type": "markdown",
   "metadata": {},
   "source": [
    "#### Calculate the  transient temperature and concentrations in this reactor.  You may assume the heats of reactions are constant w.r.t to temperature ( since Cpa=Cpb=Cpc, dCp=0) for the first 40 minutes. (30 pt)"
   ]
  },
  {
   "cell_type": "markdown",
   "metadata": {},
   "source": [
    "#### Calculate the cumulative selectivity of this reactor at 40 min, defined as $C_B/C_C$, as a function of the bath temperature, from 30 $^{\\circ}$C to 60 $^{\\circ}$C. (10 pt)"
   ]
  },
  {
   "cell_type": "markdown",
   "metadata": {},
   "source": [
    "#### Describe the profile and selectivity plots you made (a few sentences or bullets). Discuss any abnormalities you may see and why they appear. [5 pt]"
   ]
  }
 ],
 "metadata": {
  "kernelspec": {
   "display_name": "Python 3",
   "language": "python",
   "name": "python3"
  },
  "language_info": {
   "codemirror_mode": {
    "name": "ipython",
    "version": 3
   },
   "file_extension": ".py",
   "mimetype": "text/x-python",
   "name": "python",
   "nbconvert_exporter": "python",
   "pygments_lexer": "ipython3",
   "version": "3.7.0"
  },
  "toc": {
   "colors": {
    "hover_highlight": "#DAA520",
    "navigate_num": "#000000",
    "navigate_text": "#333333",
    "running_highlight": "#FF0000",
    "selected_highlight": "#FFD700",
    "sidebar_border": "#EEEEEE",
    "wrapper_background": "#FFFFFF"
   },
   "moveMenuLeft": true,
   "nav_menu": {
    "height": "11px",
    "width": "252px"
   },
   "navigate_menu": true,
   "number_sections": true,
   "sideBar": true,
   "threshold": 4,
   "toc_cell": false,
   "toc_section_display": "block",
   "toc_window_display": false,
   "widenNotebook": false
  }
 },
 "nbformat": 4,
 "nbformat_minor": 2
}
