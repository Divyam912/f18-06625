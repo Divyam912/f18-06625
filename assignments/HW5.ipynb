{
 "cells": [
  {
   "cell_type": "markdown",
   "metadata": {},
   "source": [
    "$$\\require{mhchem}$$"
   ]
  },
  {
   "cell_type": "markdown",
   "metadata": {},
   "source": [
    "# Haber-Bosch (18 pts)"
   ]
  },
  {
   "cell_type": "markdown",
   "metadata": {},
   "source": [
    "The Haber-Bosch process is the most widely used catalytic process in the world, and consumes something like 1-3% of all of the energy produced on Earth. This reaction is the only reason we can feed 7 billion people:\n",
    "\\begin{align*}\n",
    "\\ce{N2 + 3H2 -> 2NH3}\n",
    "\\end{align*}"
   ]
  },
  {
   "cell_type": "markdown",
   "metadata": {},
   "source": [
    "## Calculate the gas-phase free energy of the reaction at 600 K and 1 atm, assuming standard temperature/pressure for each species using data from the NIST chemistry web book."
   ]
  },
  {
   "cell_type": "markdown",
   "metadata": {},
   "source": [
    "## Calculate and plot the free energy of reaction as a function of temperature, from 400 to 800 K, at 1 atm and 100 atm."
   ]
  },
  {
   "cell_type": "markdown",
   "metadata": {},
   "source": [
    "## Based on the plot from 1.2, estimate an upper limit of temperature if we want this reaction to proceed reasonably to the products at 100 atm"
   ]
  },
  {
   "cell_type": "markdown",
   "metadata": {},
   "source": [
    "## As the pressure is increased, why does the equilibrium conversion increase or decrease?"
   ]
  },
  {
   "cell_type": "markdown",
   "metadata": {},
   "source": [
    "## For a fixed reactor (no inlet/outlet) starting with a 3:1 mixture of H2 to N2 (total 1 mol), plot the free energy of reaction as a function of reaction extent at 650K and 1 atm. Include the curve for 100 atm on the same graph."
   ]
  },
  {
   "cell_type": "markdown",
   "metadata": {},
   "source": [
    "## Based on your calculations from 1.4, solve for the equilibrium extent of reaction (the extent where G_rxn=0). Hint: be careful with your initial guess, use one that is close the solution by eye from above"
   ]
  },
  {
   "cell_type": "markdown",
   "metadata": {},
   "source": [
    "## Use matplotlib to make a 2d contour plot of the conversion as a function of temperature/pressure, from T=300K to 900K and P from 1 atm to 150 atm"
   ]
  },
  {
   "cell_type": "markdown",
   "metadata": {},
   "source": [
    "## Say the rate constant is elementary (it's not and we'll discuss why later on, but let's pretend it is) with a rate constant $k_1=10^{-3} \\exp(-103 [kJ/mol] / RT)$ [1/atm^3s] with activity in the rate law as $P_i$[atm]. Solve for the equilibrium extent of reaction of a 10 m^3 reactor with gas inlet feed of 3:1 H2:N2 at 1mol/s total. Assume a pressure of 100 atm, which is about typical for industrial Haber-Bosch reactors, and a temperature of 650K."
   ]
  },
  {
   "cell_type": "markdown",
   "metadata": {},
   "source": [
    "## Plot the conversion as a function of temperature (400 to 800 K)  at 100 bar"
   ]
  },
  {
   "cell_type": "markdown",
   "metadata": {},
   "source": [
    "## Discuss why there is an optimum in this case."
   ]
  },
  {
   "cell_type": "markdown",
   "metadata": {},
   "source": [
    "## Find the optimal temperature for this reactor for maximum conversion."
   ]
  },
  {
   "cell_type": "markdown",
   "metadata": {},
   "source": [
    "# Reaction engineering questions (2 pt)\n",
    "\n",
    "Ask one question on piazza.  Post the link here (for example, https://piazza.com/class/jl5aabbtksz62s?cid=190)."
   ]
  },
  {
   "cell_type": "markdown",
   "metadata": {},
   "source": [
    "## Bonus (1pt)\n",
    "\n",
    "Answer someone else's question on Piazza. Post the link here."
   ]
  },
  {
   "cell_type": "code",
   "execution_count": null,
   "metadata": {},
   "outputs": [],
   "source": []
  }
 ],
 "metadata": {
  "kernelspec": {
   "display_name": "Python 3",
   "language": "python",
   "name": "python3"
  },
  "language_info": {
   "codemirror_mode": {
    "name": "ipython",
    "version": 3
   },
   "file_extension": ".py",
   "mimetype": "text/x-python",
   "name": "python",
   "nbconvert_exporter": "python",
   "pygments_lexer": "ipython3",
   "version": "3.6.3"
  },
  "toc": {
   "base_numbering": 1,
   "nav_menu": {
    "height": "173px",
    "width": "252px"
   },
   "number_sections": true,
   "sideBar": true,
   "skip_h1_title": false,
   "title_cell": "Table of Contents",
   "title_sidebar": "Contents",
   "toc_cell": false,
   "toc_position": {},
   "toc_section_display": "block",
   "toc_window_display": false
  }
 },
 "nbformat": 4,
 "nbformat_minor": 2
}
