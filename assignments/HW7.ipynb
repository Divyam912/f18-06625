{
 "cells": [
  {
   "cell_type": "markdown",
   "metadata": {},
   "source": [
    "$$\\require{mhchem}$$"
   ]
  },
  {
   "cell_type": "markdown",
   "metadata": {},
   "source": [
    "# Mechanism elucidation (6 pts)\n",
    "\n",
    "For the overall mechanism \n",
    "\\begin{align*}\n",
    "\\ce{2NO2 -> 2NO + O2}\n",
    "\\end{align*}\n",
    "and the postulated mechanism\n",
    "\\begin{align*}\n",
    "\\ce{NO2 ->[k_1] NO + O}\\\\\n",
    "\\ce{O + NO2 <-> [k_{2},k_{-2}] NO3}\\\\\n",
    "\\ce{NO3 + NO2 ->[k_3] NO + O2 + NO2}\\\\\n",
    "\\ce{NO3 + NO ->[k_4] 2NO2}\\\\\n",
    "\\ce{O + NO2 ->[k_5] NO + O2}\n",
    "\\end{align*}\n",
    "Derive the reduced mechanism assuming $\\ce{NO3}$ and $\\ce{NO}$ are short-lived radical species"
   ]
  },
  {
   "cell_type": "markdown",
   "metadata": {},
   "source": [
    "# Catalyst rate laws (12 pts, completion)\n",
    "\n",
    "t-butyl alcohol (TBA) is an important enhancer that is used to replace lead additives in gasoline.\n",
    "TBA was produced by the liquid-phase hydration (W) of isobutene (I) over an Amberlyst-15 catalyst (S).\n",
    "The system is normally a multiphase mixture of hydrocarbon, water, and solid catalysts. \n",
    "The use of cosolvents or excess TBA can achieve reasonable miscibility of this mixture.\n",
    "The mechanism is believed to be:\n",
    "\\begin{align}\n",
    "\\ce{ I + S &<=> I\\cdot S}\\\\\n",
    "\\ce{ W + S &<=> W\\cdot S}\\\\\n",
    "\\ce{ W\\cdot S + I \\cdot S &<=> TBA\\cdot S + S}\\\\\n",
    "\\ce{TBA\\cdot S &<=> TBA + S}\n",
    "\\end{align}\n",
    "For each reaction assume a rate constant $k_i$ and an equilibrium constant $K_i$."
   ]
  },
  {
   "cell_type": "markdown",
   "metadata": {},
   "source": [
    "## Derive a rate law assuming assuming the surface reaction is rate-limiting (3 points)."
   ]
  },
  {
   "cell_type": "markdown",
   "metadata": {},
   "source": [
    "## Derive a rate law assuming assuming the adsorption of isobutene is rate-limiting (3 points)."
   ]
  },
  {
   "cell_type": "markdown",
   "metadata": {},
   "source": [
    "## Derive a rate law assuming the reaction follows Eley-Rideal kinetics; assume the surface reaction is rate limiting and that $W$ no longer adsorbs (3 points).\n",
    "\\begin{align}\n",
    "\\ce{I\\cdot S + W &<=> TBA\\cdot S}\\\\\n",
    "\\end{align}"
   ]
  },
  {
   "cell_type": "markdown",
   "metadata": {},
   "source": [
    "#### Derive a rate law assuming  Isobutene (I) and water (W) are adsorbed on different sites, the surface reaction is rate-limiting, and TBA immediately desorbs upon synthesis (3 points):\n",
    "\\begin{align}\n",
    "\\ce{ I + S1 &<=> I\\cdot S1}\\\\\n",
    "\\ce{ W + S2 &<=> W\\cdot S2}\\\\\n",
    "\\ce{ I\\cdot S_1 + W \\cdot S_2 &<=> TBA + S_1 + S_2}\\\\\n",
    "\\end{align}"
   ]
  },
  {
   "cell_type": "markdown",
   "metadata": {},
   "source": [
    "# Catalyst coking (8 pts, completion)"
   ]
  },
  {
   "cell_type": "markdown",
   "metadata": {},
   "source": [
    "We're using a transient CSTR for a heterogenous catalytic reaction, where the reactants/products\n",
    "are in liquid phase and the catalyst is in a solid phase.\n",
    "\\begin{align}\n",
    "\\ce{A + S &<=> A\\cdot S}\\qquad k_1=0.1\\:s^{-1}M^{-1}\\qquad K_1=5\\: M^{-1}\\\\\n",
    "\\ce{B + S &<=> B\\cdot S}\\qquad k_2=0.2\\:s^{-1}M^{-1}\\qquad K_2=4\\: M^{-1}\\\\\n",
    "\\ce{A\\cdot S + B\\cdot S &<=> C\\cdot S + S }\\qquad k_3=0.8\\:s^{-1}M^{-1}\\qquad K_3=1\\\\\n",
    "\\ce{C\\cdot S &<=> C + S }\\qquad k_4=1.5\\:s^{-1}\\qquad K_4=5\\: M\n",
    "\\end{align}\n",
    "The reactor output is filtered to remove particulate matter so that the catalyst slurry is not\n",
    "removed from the reactor (i.e. liquid A, B, C can leave, but A$\\cdot$S, B$\\cdot$S, or C$\\cdot$S\n",
    "cannot). We feed two separate streams:  stream 1 flows at 0.5 L/s with a 2 M concentration of A,\n",
    "and stream 2 flows at 0.5 L/s with a 2 M concentration of B. You may assume ideal mixing, i.e.,\n",
    "$\\dot{V}_1+\\dot{V}_2=\\dot{V}_{total}$. Initially the reactor is charged with 2 M catalyst (S)\n",
    "and no A or B. The reactor has a fixed volume of 100 L."
   ]
  },
  {
   "cell_type": "markdown",
   "metadata": {},
   "source": [
    "## Plot the concentration of C in the reactor as a function of time (4 points)"
   ]
  },
  {
   "cell_type": "markdown",
   "metadata": {},
   "source": [
    "## We discover that there is a small impurity in stream 1 that binds strongly to the catalyst. In addition to A and B there is an additional agent F at 0.02 M, that reacts with the catalyst (4 points):\n",
    "\\begin{align}\n",
    "\\ce{F + S &<=> F\\cdot S}\\qquad k_5=0.1\\: s^{-1}M^{-1},\\qquad K_5=1000\n",
    "\\end{align}\n",
    "Note that this impurity may flow out of the reactor when desorbed (as F), but it may\n",
    "not flow out when adsorbed (as F$\\cdot$S). Plot the concentration of C in the reactor as a function of time."
   ]
  },
  {
   "cell_type": "markdown",
   "metadata": {},
   "source": [
    "# Piazza (2 pts)\n",
    "\n",
    "This week, either submit a question or answer a question for two points. Post the link to your question or answer"
   ]
  },
  {
   "cell_type": "code",
   "execution_count": null,
   "metadata": {},
   "outputs": [],
   "source": []
  }
 ],
 "metadata": {
  "kernelspec": {
   "display_name": "Python 3",
   "language": "python",
   "name": "python3"
  },
  "language_info": {
   "codemirror_mode": {
    "name": "ipython",
    "version": 3
   },
   "file_extension": ".py",
   "mimetype": "text/x-python",
   "name": "python",
   "nbconvert_exporter": "python",
   "pygments_lexer": "ipython3",
   "version": "3.6.3"
  },
  "toc": {
   "base_numbering": 1,
   "nav_menu": {
    "height": "173px",
    "width": "252px"
   },
   "number_sections": true,
   "sideBar": true,
   "skip_h1_title": false,
   "title_cell": "Table of Contents",
   "title_sidebar": "Contents",
   "toc_cell": false,
   "toc_position": {},
   "toc_section_display": "block",
   "toc_window_display": false
  }
 },
 "nbformat": 4,
 "nbformat_minor": 2
}
