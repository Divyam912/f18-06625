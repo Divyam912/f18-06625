{
 "cells": [
  {
   "cell_type": "markdown",
   "metadata": {},
   "source": [
    "$$\\require{mhchem}$$"
   ]
  },
  {
   "cell_type": "markdown",
   "metadata": {},
   "source": [
    "# Problem 1. Transient CSTR (60 pt)\n",
    "\n",
    "Consider two competing reactions:\n",
    "\\begin{align*}\n",
    "\\ce{A + 2B ->[k_1] C}\\\\\n",
    "\\ce{A + B ->[k_2] D}\n",
    "\\end{align*}\n",
    "where we want to maximize the amount of species D. Both reactions are elementary. $k_1=0.1$/M^2/min. $k_2=0.2$/M/min. The volume is 200 L. The inlet flow rate is 5 L/min and inlet concentrations are C_A = 5M, C_B = 10M. The tank is initially filled with water (all concentrations = 0). You can neglect volume expansion/etc with changing number of moles due to the aqueous conditions."
   ]
  },
  {
   "cell_type": "markdown",
   "metadata": {},
   "source": [
    "## 1.1 Write the mol balance for the two species in the CSTR (10 pt)"
   ]
  },
  {
   "cell_type": "markdown",
   "metadata": {},
   "source": [
    "## 1.2 For a single CSTR, calculate and plot the concentrations of all four species (A, B, C, and D) in the reactor from t=0 to 60 mins. (20 pt)."
   ]
  },
  {
   "cell_type": "markdown",
   "metadata": {},
   "source": [
    "## 1.3 Calculate the selectivity, as defined as $C_D/(C_C+C_D)$ in the outlet stream for the first 60 minutes. (10 pt)\n",
    "\n"
   ]
  },
  {
   "cell_type": "markdown",
   "metadata": {},
   "source": [
    "## 1.4 Consider a membrane CSTR, where the feed stream contains pure $A$, and $B$ can permeate through the walls of the CSTR. The CSTR area is 10 m$^2$, the mass transport constant is $0.3 m/s$, and the concentration of B outside the reactor is 10 M. The volume is of the CSTR is still 200 L. The inlet flow rate is still 5 L/min and inlet concentration of A is C$_A$ = 5M.Write the new mol balance for each species in the CSTR. (10 pt)\n",
    "\n",
    "![img](E1P1_2018.png)"
   ]
  },
  {
   "cell_type": "markdown",
   "metadata": {},
   "source": [
    "## 1.5 Solve for the new transient profile with the membrane included using the information from 1.4. & Plot the concentration profiles of all four species in the reactor.(10 pt)"
   ]
  },
  {
   "cell_type": "markdown",
   "metadata": {},
   "source": [
    "# Problem 2. PFR (40 points)\n",
    "\n",
    "Consider the system \n",
    "\\begin{align*}\n",
    "\\ce{A ->[k_1] 6B}\n",
    "\\end{align*}\n",
    "in the gas phase at 500 K and 10 atm. The inlet is 5 mol/s pure A. The reactor volume is 1200 L. R=0.082 L*atm/mol/K. The reaction is elementary and $k_1=0.1/s$"
   ]
  },
  {
   "cell_type": "markdown",
   "metadata": {},
   "source": [
    "## 2.1 Calculate the inlet volumetric flow rate and write the mole balance assuming no pressure drop (10 pt)"
   ]
  },
  {
   "cell_type": "markdown",
   "metadata": {},
   "source": [
    "## 2.2 Solve for the molar flow rate of each species along the volume of the reactor. (15 pt)"
   ]
  },
  {
   "cell_type": "markdown",
   "metadata": {},
   "source": [
    "## 2.3 Would pressure drop along the length of the reactor increase or decrease the final conversion? Why? (5 pt)"
   ]
  },
  {
   "cell_type": "markdown",
   "metadata": {},
   "source": [
    "##  2.4 Solve for and plot the pressure with profile pressure drop effects and a combined coefficient $\\alpha=0.00005$/L. (10 pt)"
   ]
  },
  {
   "cell_type": "markdown",
   "metadata": {},
   "source": [
    "## 2.5 Calculate the coefficient $\\alpha$ ($L^{-1}$)  that halves the inlet pressure at the end of the reactor. ($P_{exit}$ = 0.5$P_{in}$) (bonus 5pt)"
   ]
  },
  {
   "cell_type": "code",
   "execution_count": null,
   "metadata": {},
   "outputs": [],
   "source": []
  }
 ],
 "metadata": {
  "kernelspec": {
   "display_name": "Python 3",
   "language": "python",
   "name": "python3"
  },
  "language_info": {
   "codemirror_mode": {
    "name": "ipython",
    "version": 3
   },
   "file_extension": ".py",
   "mimetype": "text/x-python",
   "name": "python",
   "nbconvert_exporter": "python",
   "pygments_lexer": "ipython3",
   "version": "3.6.3"
  },
  "toc": {
   "base_numbering": 1,
   "nav_menu": {
    "height": "173px",
    "width": "252px"
   },
   "number_sections": true,
   "sideBar": true,
   "skip_h1_title": false,
   "title_cell": "Table of Contents",
   "title_sidebar": "Contents",
   "toc_cell": false,
   "toc_position": {},
   "toc_section_display": "block",
   "toc_window_display": false
  }
 },
 "nbformat": 4,
 "nbformat_minor": 2
}
