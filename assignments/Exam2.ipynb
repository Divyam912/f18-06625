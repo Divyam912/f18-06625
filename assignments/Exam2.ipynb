{
 "cells": [
  {
   "cell_type": "markdown",
   "metadata": {},
   "source": [
    "$$\\require{mhchem}$$"
   ]
  },
  {
   "cell_type": "markdown",
   "metadata": {},
   "source": [
    "# Catalyst problem"
   ]
  },
  {
   "cell_type": "markdown",
   "metadata": {},
   "source": [
    "For an overall mechanism\n",
    "\n",
    "\\begin{align*}\n",
    "\\ce{A + O2 ->[k] C + 2H2O}\n",
    "\\end{align*}\n",
    "a rate law has been proposed. We think we might be able to derive a more accurate rate law using a postulated mechanism on two different types of catalyst sites $S_1$ and $S_2$.\n",
    "\\begin{align*}\n",
    "\\ce{AS2 + OS1 <=>[k_1,k_{-1}] BS2 + H2OS1}\\\\\n",
    "\\ce{BS2 + OS1 ->[k_2] CS + H2OS1}\\\\\n",
    "\\ce{A + S2 <=>[K_3] AS2}\\\\\n",
    "\\ce{O2 + 2S1 <=>[K_4] 2OS1}\\\\\n",
    "\\ce{C + S2 <=>[K_5] CS2}\\\\\n",
    "\\ce{H2O + S1 <=>[K_6] H2OS1}\n",
    "\\end{align*}"
   ]
  },
  {
   "cell_type": "markdown",
   "metadata": {},
   "source": [
    "We make the following assumptions\n",
    "1. All adsorption/desorption reactions are in equilibrium.\n",
    "2. You can assume Species $BS_2$ is an active intermediate and at a quasi-steady-state (no change in concentration)\n",
    "3. Reaction 2 is irreversible.\n",
    "4. A, B, and C only adsorb on surface sites $S_2$.\n",
    "5. $O_2$ and $H_2O$ adsorb on surface sites $S_1$."
   ]
  },
  {
   "cell_type": "markdown",
   "metadata": {},
   "source": [
    "## Determine the production rate of CS in the above mechanism using gas-phase concentrations $c_A$, $c_C$, $c_{O2}$, $c_{H2O}$, rate/equilibrium constants $k_i, k_{−i}, K_i$, and total metal sites $c_{m1}$ (for S1) and $c_{m2}$ (for S2) to derive the reduced rate law.  [20 pt]\n",
    "Note: No surface species concentration should appear in your final rate expression."
   ]
  },
  {
   "cell_type": "markdown",
   "metadata": {},
   "source": [
    "(To save time) You can write your answer down on a piece of paper and upload the image to the gradescope & box. \n",
    "Please make sure your hand-writing is clear & recognizable, and please box your final answers!"
   ]
  },
  {
   "cell_type": "markdown",
   "metadata": {},
   "source": [
    "## You have measured the following rate data for the reaction above. [20]\n",
    "\n",
    "For simplicity (and so you can solve this part of the question without the prior steps), use the following rate law (not the same as the correct rate law above)\n",
    "\\begin{align*}\n",
    "r = \\frac{k_1c_Ac_{O2}}{K_1c_{H2O}+K_2\\sqrt{c_{O2}}}\n",
    "\\end{align*}\n",
    "where $k_1, K_1, K_2$ are all fitted parameters. $c_{h2o}=45$ M and you can assume $c_c=0$M"
   ]
  },
  {
   "cell_type": "code",
   "execution_count": 54,
   "metadata": {},
   "outputs": [],
   "source": [
    "c_a = np.array([2.46, 0.54, 0.98, 1.29, 0.69, 1.04, 0.44, 2.08, 1.41, 0.39, 1.09,\n",
    "       0.74, 2.41, 1.87, 0.52, 0.54, 1.72, 1.34, 0.86, 0.69, 1.59, 0.85,\n",
    "       0.87, 2.1 , 1.54, 1.66, 1.86, 1.53, 1.02, 1.13, 1.36, 0.52, 0.39,\n",
    "       1.65, 1.21, 2.22, 0.82, 0.64, 1.27, 0.52, 2.29, 1.68, 1.07, 1.22,\n",
    "       2.41, 1.48, 0.55, 0.7 , 1.3 , 0.4 , 1.52, 0.82, 0.84, 1.7 , 0.81,\n",
    "       1.15, 0.42, 0.75, 1.64, 0.5 , 0.96, 1.88, 1.15, 0.7 , 0.47, 2.33,\n",
    "       0.43, 1.29, 2.27, 0.75, 0.42, 1.14, 1.11, 0.68, 0.48, 1.23, 1.  ,\n",
    "       0.47, 2.28, 0.42, 2.25, 0.84, 1.38, 0.87, 0.7 , 0.54, 1.86, 0.53,\n",
    "       1.3 , 1.65, 2.01, 0.69, 0.46, 0.59, 1.98, 0.75, 0.81, 0.49, 2.4 ,\n",
    "       1.38]) #in mol/L\n",
    "c_o2 = np.array([0.87, 0.59, 0.51, 2.2 , 0.67, 0.56, 1.11, 0.83, 1.42, 1.79, 2.07,\n",
    "       0.42, 1.04, 0.41, 0.98, 1.75, 2.64, 1.01, 1.33, 0.69, 2.1 , 1.92,\n",
    "       1.92, 0.47, 2.63, 1.6 , 0.72, 1.33, 0.88, 1.85, 0.7 , 1.35, 2.18,\n",
    "       1.12, 1.65, 0.57, 0.94, 2.47, 1.67, 1.74, 1.03, 2.61, 0.85, 2.32,\n",
    "       0.56, 2.59, 0.63, 0.67, 1.55, 0.55, 2.72, 1.09, 2.5 , 0.41, 0.81,\n",
    "       1.25, 1.91, 0.97, 1.84, 2.16, 1.81, 0.82, 2.43, 1.32, 1.77, 0.68,\n",
    "       1.27, 0.68, 1.44, 1.02, 1.18, 1.62, 0.86, 1.03, 1.97, 0.39, 0.89,\n",
    "       2.31, 0.47, 0.37, 2.11, 1.16, 1.33, 1.13, 1.93, 1.59, 0.58, 0.68,\n",
    "       1.27, 1.2 , 0.51, 0.51, 1.02, 2.37, 0.99, 1.1 , 0.84, 0.47, 0.82,\n",
    "       1.26]) #in mol/L\n",
    "r = np.array([15.46,  2.47,  4.05, 17.64,  3.43,  4.28,  3.61, 12.64, 13.57,\n",
    "        4.45, 14.35,  2.4 , 17.84,  6.09,  3.61,  6.14, 27.58,  9.72,\n",
    "        7.73,  3.5 , 21.25, 10.6 , 10.6 ,  7.88, 24.47, 17.52,  9.92,\n",
    "       13.79,  6.71, 13.52,  7.25,  4.75,  5.27, 13.04, 13.19,  9.74,\n",
    "        5.76,  9.83, 13.93,  6.07, 16.78, 26.61,  6.75, 17.8 , 10.25,\n",
    "       23.18,  2.59,  3.56, 13.46,  1.63, 24.98,  6.3 , 12.81,  5.66,\n",
    "        4.74,  9.95,  5.23,  5.18, 19.47,  6.63, 11.11, 11.28, 17.23,\n",
    "        6.23,  5.34, 11.99,  3.8 ,  6.55, 22.08,  5.61,  3.53, 12.25,\n",
    "        6.87,  5.  ,  6.16,  3.93,  6.63,  6.87,  8.53,  1.28, 30.  ,\n",
    "        6.9 , 12.52,  6.86,  8.58,  5.76,  8.29,  2.61, 11.4 , 13.75,\n",
    "        8.04,  2.82,  3.45,  8.51, 13.93,  5.98,  5.06,  1.7 , 14.34,\n",
    "       12.11]) #in mol/L/min"
   ]
  },
  {
   "cell_type": "markdown",
   "metadata": {},
   "source": [
    "Fit the original rate law ($r=kC_AC_{O2}$) and the new rate law to the data. Plot the residuals for each data point after fitting and decide which is the better fit. Include uncertainty estimates on each parameter. Which mechanism would you suggest to use?"
   ]
  },
  {
   "cell_type": "markdown",
   "metadata": {},
   "source": [
    "## Write down, but do not solve, the two coupled partial differential equations that describe concentration of A and O2 inside the pellet. Include the boundary conditions. Use the rate law  $r=kC_AC_{O2}$ . [10 pt]"
   ]
  },
  {
   "cell_type": "markdown",
   "metadata": {},
   "source": [
    "## This reaction will take place inside a 1 mm pellet. The diffusion constant of O2 in the catalyst pellet is $1.9\\times 10^{-5}$ cm2/s. The diffusion constant of A in the pellet is $2.1\\times 10^{-6}$ cm2/s. Use the rate law  $r=kC_AC_{O2}$ with $k=0.0005$L/mol/s. The concentration of each species outside the pellet is 2 M. For each species, calculate the Thiele modulus, assuming that the other is constant. Which species will be diffusion-limited (and at reduced concentration) inside the pellet? [5 pt]"
   ]
  },
  {
   "cell_type": "markdown",
   "metadata": {},
   "source": [
    "## Solve for the concentration of each species (A,B,C above) in a 100 L plug flow (packed bed) reactor. The volume fraction of catalyst particles is 0.6. The inlet conditions are 10L/s of 2M A and 2M dissolved O2. Use the rate law  $r=kC_AC_{O2}$ with $k=0.0005$L/mol/s. Assume that only the species with the highest Thiele modulus is rate-limiting (i.e. calculate only a single effectiveness factor for the most diffusion-limited species and use that).  [20]"
   ]
  },
  {
   "cell_type": "markdown",
   "metadata": {},
   "source": [
    "# Chemical equilibria of two reactions [25pt]\n",
    "\n",
    "Hexane produces two different methyl-products A & B \n",
    "\\begin{align*}\n",
    "\\ce{hexane <=> A + H2}\\\\\n",
    "\\ce{hexane <=> B}\n",
    "\\end{align*}\n",
    "\n",
    "| component  | $\\Delta H_f^{600 K} (kcal/mol)$  |  $\\Delta G_f^{600 K} (kcal/mol)$ | \n",
    "|------|------|------|\n",
    "|  hexane | -46.10  |  43.02 |\n",
    "|  A | -31.69  | 45.76   |\n",
    "|  B | -47.63  | 42.39  |\n",
    "| hydrogen  | 0  |  0 |\n",
    "\n",
    "where $\\Delta H_f^{600 K} (kcal/mol)$  and  $\\Delta G_f^{600 K} (kcal/mol)$ are the heats of formation and the Gibbs free energy of formation of each of the compounds at 600 K from the elements, respectively. Find the temperature where equal amounts of A and B form if pure hexane is allowed to equilibrate 1.0 atm total pressure. Also find the mole fraction of the mixture (A &B & hexane) at this temperature. At this condition the hydrocarbons are gases. \n",
    "\n",
    "You can use the Van't Hoff relation to find the temperature-dependence of the equilibrium constants:\n",
    "\\begin{align*}\n",
    "\\ln\\left(\\frac{K(T_2)}{K(T_1)} \\right) = -\\frac{\\Delta H_{rxn}^o}{R}\\left(\\frac{1}{T_2}-\\frac{1}{T_1}\\right)\n",
    "\\end{align*}\n",
    "\n",
    "The ideal gas constant is 1.987$\\times10^{-3}$ kcal/mol/K\n"
   ]
  }
 ],
 "metadata": {
  "kernelspec": {
   "display_name": "Python 3",
   "language": "python",
   "name": "python3"
  },
  "language_info": {
   "codemirror_mode": {
    "name": "ipython",
    "version": 3
   },
   "file_extension": ".py",
   "mimetype": "text/x-python",
   "name": "python",
   "nbconvert_exporter": "python",
   "pygments_lexer": "ipython3",
   "version": "3.7.0"
  },
  "toc": {
   "base_numbering": 1,
   "nav_menu": {
    "height": "173px",
    "width": "252px"
   },
   "number_sections": true,
   "sideBar": true,
   "skip_h1_title": false,
   "title_cell": "Table of Contents",
   "title_sidebar": "Contents",
   "toc_cell": false,
   "toc_position": {},
   "toc_section_display": "block",
   "toc_window_display": false
  }
 },
 "nbformat": 4,
 "nbformat_minor": 2
}
