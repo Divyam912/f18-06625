{
 "cells": [
  {
   "cell_type": "markdown",
   "metadata": {},
   "source": [
    "# Hougan-Watson kinetics"
   ]
  },
  {
   "cell_type": "markdown",
   "metadata": {},
   "source": [
    "Consider CO oxidation in a catalytic fixed-bed reactor operating isothermally at 838 K and 1.0 atm.\n",
    "\\begin{align}\n",
    "CO + \\frac{1}{2}O_2\\rightarrow CO_2\n",
    "\\end{align}\n",
    "The following rate expression and parameters are adapted from a research paper. The rate expression inside the catalyst particle is assumed to be of the form\n",
    "\\begin{align}\n",
    "r = \\frac{kC_{CO}C_{O2}}{1+KC_{CO}}\n",
    "\\end{align}\n",
    "where \n",
    "\\begin{align}\n",
    "k=8.73\\times 10^{12}\\exp(-13,500/T) [cm^3/mol/s]\\\\\n",
    "K = 8.099\\times 10^6 \\exp(409/T) [cm^3/mol]\\\\\n",
    "D_{CO}=0.0487 [cm^2/s]\n",
    "\\end{align}\n",
    "in which T is in Kelvin. The catalyst pellet radius is 0.1 cm. The feed to the reactor consists of 2 mol % CO, 10 mol % O$_2$, no CO$_2$, and the remainder inert. The bed porosity (volume of pellets compared to total reactor volume) is 70%. We want to find the volume of the reactor that reaches 95% conversion. "
   ]
  },
  {
   "cell_type": "markdown",
   "metadata": {},
   "source": [
    "## Calculate the Thiele modulus at the inlet and outlet of the reactor\n"
   ]
  },
  {
   "cell_type": "markdown",
   "metadata": {},
   "source": [
    "## Calculate the effectiveness factor at the inlet and outlet  of the reactor"
   ]
  },
  {
   "cell_type": "markdown",
   "metadata": {},
   "source": [
    "## Calculate and plot the concentration of each species over the volume of the reactor.  "
   ]
  },
  {
   "cell_type": "markdown",
   "metadata": {},
   "source": [
    "## Calculate and plot  the Thiele modulus over the length of the reactor"
   ]
  },
  {
   "cell_type": "markdown",
   "metadata": {},
   "source": [
    "# Pellet size effects\n",
    "\n",
    "The first-order irreversible reaction $A->B$ takes place in a 0.3 cm radius spherical catalyst pellet at T=450 K. At 0.7 atm partial of A, the pellet's production rate is $-2.5\\times 10^{-5}$mol/g/s. The pellet density is $0.85 g/cm^3$. The effective diffusivity of A in the pellet is $D_A=0.007 cm^2/s$."
   ]
  },
  {
   "cell_type": "markdown",
   "metadata": {},
   "source": [
    "## Calculate the surface concentration (the concentration of A in the gas, use ideal gas). "
   ]
  },
  {
   "cell_type": "markdown",
   "metadata": {},
   "source": [
    "## For the 0.3 cm pellet size, write down the rate of production of the particle in terms of the effectiveness factor (and thus Thiele  modulus)"
   ]
  },
  {
   "cell_type": "markdown",
   "metadata": {},
   "source": [
    "## Solve for the Thiele modulus in the 0.3 cm pellet"
   ]
  },
  {
   "cell_type": "markdown",
   "metadata": {},
   "source": [
    "## Calculate the thiele modulus for a range of pellet sizes from 1 mm to 5cm and plot the production rate (per volume of pellet) over this size range"
   ]
  },
  {
   "cell_type": "markdown",
   "metadata": {},
   "source": [
    "# Piazza (2 pts)\n",
    "\n",
    "This week, either submit a question or answer a question for two points. Post the link to your question or answer"
   ]
  },
  {
   "cell_type": "code",
   "execution_count": null,
   "metadata": {},
   "outputs": [],
   "source": []
  }
 ],
 "metadata": {
  "kernelspec": {
   "display_name": "Python 3",
   "language": "python",
   "name": "python3"
  },
  "language_info": {
   "codemirror_mode": {
    "name": "ipython",
    "version": 3
   },
   "file_extension": ".py",
   "mimetype": "text/x-python",
   "name": "python",
   "nbconvert_exporter": "python",
   "pygments_lexer": "ipython3",
   "version": "3.6.3"
  },
  "toc": {
   "base_numbering": 1,
   "nav_menu": {},
   "number_sections": true,
   "sideBar": true,
   "skip_h1_title": false,
   "title_cell": "Table of Contents",
   "title_sidebar": "Contents",
   "toc_cell": false,
   "toc_position": {},
   "toc_section_display": true,
   "toc_window_display": false
  }
 },
 "nbformat": 4,
 "nbformat_minor": 2
}
