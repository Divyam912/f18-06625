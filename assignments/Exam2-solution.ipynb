{
 "cells": [
  {
   "cell_type": "markdown",
   "metadata": {},
   "source": [
    "$$\\require{mhchem}$$"
   ]
  },
  {
   "cell_type": "markdown",
   "metadata": {},
   "source": [
    "# Catalyst problem"
   ]
  },
  {
   "cell_type": "markdown",
   "metadata": {},
   "source": [
    "For an overall mechanism\n",
    "\n",
    "\\begin{align*}\n",
    "\\ce{A + O2 ->[k] C + 2H2O}\n",
    "\\end{align*}\n",
    "a rate law has been proposed. We think we might be able to derive a more accurate rate law using a postulated mechanism on two different types of catalyst sites $S_1$ and $S_2$.\n",
    "\\begin{align*}\n",
    "\\ce{AS2 + OS1 <=>[k_1,k_{-1}] BS2 + H2OS1}\\\\\n",
    "\\ce{BS2 + OS1 ->[k_2] CS2 + H2OS1}\\\\\n",
    "\\ce{A + S2 <=>[K_3] AS2}\\\\\n",
    "\\ce{O2 + 2S1 <=>[K_4] 2OS1}\\\\\n",
    "\\ce{C + S2 <=>[K_5] CS2}\\\\\n",
    "\\ce{H2O + S1 <=>[K_6] H2OS1}\n",
    "\\end{align*}"
   ]
  },
  {
   "cell_type": "markdown",
   "metadata": {},
   "source": [
    "We make the following assumptions\n",
    "1. All adsorption/desorption reactions are in equilibrium.\n",
    "2. You can assume Species $BS_2$ is an active intermediate and at a quasi-steady-state (no change in concentration)\n",
    "3. Reaction 2 is irreversible.\n",
    "4. A, B, and C only adsorb on surface sites $S_2$.\n",
    "5. $O_2$ and $H_2O$ adsorb on surface sites $S_1$."
   ]
  },
  {
   "cell_type": "markdown",
   "metadata": {},
   "source": [
    "## Determine the production rate of CS2 in the above mechanism using gas-phase concentrations $c_A$, $c_C$, $c_{O2}$, $c_{H2O}$, rate/equilibrium constants $k_i, k_{−i}, K_i$, and total metal sites $c_{m1}$ (for S1) and $c_{m2}$ (for S2) to derive the reduced rate law.  [20 pt]\n",
    "Note: No surface species concentration should appear in your final rate expression."
   ]
  },
  {
   "cell_type": "markdown",
   "metadata": {},
   "source": [
    "We have the adsorption reactions at equilibiurm:\n",
    "\n",
    "\\begin{align}\n",
    "C_{AS2} = K_3C_AC_{S2} \\\\\n",
    "C_{CS2} = K_5C_CC_{S2} \\\\\n",
    "C_{OS1} = (K_4C_{O_2})^{0.5}C_{S1} \\\\\n",
    "C_{H_2OS1} = K_6C_{H_2O}C_{S1}\n",
    "\\end{align}\n",
    "\n",
    "Also given species BS2 can be assumed as steady state active species:\n",
    "\\begin{align}\n",
    "r_{BS2} = k_1C_{AS2}C_{OS1}-k_{-1}C_{BS2}C_{H_2OS1}-k_2C_{BS2}C_{OS1} = 0\n",
    "\\end{align}\n",
    "\n",
    "We get:\n",
    "\\begin{align}\n",
    "C_{BS2} = \\frac{k_1C_{AS2}C_{OS1}}{k_{-1}C_{BS2}C_{H_2OS1}+k_2C_{BS2}C_{OS1}}\n",
    "\\end{align}\n",
    "\n",
    "The site balance for S1:\n",
    "\\begin{align}\n",
    "C_{m1} = C_{S1}+C_{OS1}+C_{H_2OS1}\\\\\n",
    "C_{m1} = C_{S1}+(K_4C_{O_2})^{0.5}C_{S1}+K_6C_{H_2O}C_{S1}\\\\\n",
    "C_{m1} = C_{S1}(1+(K_4C_{O_2})^{0.5}+K_6C_{H_2O}) \\\\\n",
    "C_{S1} = \\frac{C_{m1}}{1+(K_4C_{O_2})^{0.5}+K_6C_{H_2O}}\n",
    "\\end{align}\n",
    "\n",
    "Similarly, the site balance for S2:\n",
    "\\begin{align}\n",
    "C_{m2} = C_{S2}+C_{AS2}+C_{BS2}+C_{CS2} \\\\\n",
    "C_{m2} = C_{S2}+K_3C_AC_{S2}+K_5C_CC_{S2} \\\\\n",
    "C_{m2} = C_{S2}(1+K_3C_A+K_5C_C)\\\\\n",
    "C_{S2} = \\frac{C_{m2}}{1+K_3C_A+K_5C_C}\n",
    "\\end{align}\n",
    "since $C_{BS2}$ is negligible\n",
    "\n",
    "\n",
    "CS2 is produced only in the second reaction. The fifth reaction is simply adsorption/desorption. Therefore production rate of CS2 is the rate r2, which is given by:\n",
    "\n",
    "\\begin{align}\n",
    "r_2 = k_2C_{BS2}C_{OS1}\\\\\n",
    "r_2 = \\frac{k_1C_{AS2}C_{OS1}^2}{k_{-1}C_{H_2OS1}+k_2C_{OS1}}\n",
    "\\end{align}\n",
    "\n",
    "plug eqn(1) and eqn(3) in, we get:\n",
    "\\begin{align}\n",
    "r_2 = \\frac{k_1k_2K_3K_4C_{A}C_{O_2}}{k_{-1}K_6C_{H_2O}+k_2C_{O_2}^{0.5}}C_{S1}C_{S2}\n",
    "\\end{align}\n",
    "\n",
    "plug eqn(14) and eqn(16) in, the final answer is:\n",
    "\\begin{align}\n",
    "r_2 = \\frac{k_1k_2K_3K_4C_{A}C_{O_2}}{k_{-1}K_6C_{H_2O}+k_2C_{O_2}^{0.5}}\\frac{C_{m1}}{1+(K_4C_{O_2})^{0.5}+K_6C_{H_2O}}\\frac{C_{m2}}{1+K_3C_A+K_5C_C}\n",
    "\\end{align}"
   ]
  },
  {
   "cell_type": "markdown",
   "metadata": {},
   "source": [
    "## Your colleague has measured the following rate data for the reaction above. \n",
    "\n",
    "For simplicity (and so you can solve this part of the question without the prior steps), use the following rate law (not the same as the correct rate law above)\n",
    "\\begin{align*}\n",
    "r = \\frac{k_1c_Ac_{O2}}{K_1c_{H2O}+K_2\\sqrt{c_{O2}}}\n",
    "\\end{align*}\n",
    "where $k_1, K_1, K_2$ are all fitted parameters. $c_{h2o}=45$ M and you can assume $c_c=0$M"
   ]
  },
  {
   "cell_type": "code",
   "execution_count": 1,
   "metadata": {},
   "outputs": [],
   "source": [
    "import numpy as np\n",
    "c_a = np.array([2.46, 0.54, 0.98, 1.29, 0.69, 1.04, 0.44, 2.08, 1.41, 0.39, 1.09,\n",
    "       0.74, 2.41, 1.87, 0.52, 0.54, 1.72, 1.34, 0.86, 0.69, 1.59, 0.85,\n",
    "       0.87, 2.1 , 1.54, 1.66, 1.86, 1.53, 1.02, 1.13, 1.36, 0.52, 0.39,\n",
    "       1.65, 1.21, 2.22, 0.82, 0.64, 1.27, 0.52, 2.29, 1.68, 1.07, 1.22,\n",
    "       2.41, 1.48, 0.55, 0.7 , 1.3 , 0.4 , 1.52, 0.82, 0.84, 1.7 , 0.81,\n",
    "       1.15, 0.42, 0.75, 1.64, 0.5 , 0.96, 1.88, 1.15, 0.7 , 0.47, 2.33,\n",
    "       0.43, 1.29, 2.27, 0.75, 0.42, 1.14, 1.11, 0.68, 0.48, 1.23, 1.  ,\n",
    "       0.47, 2.28, 0.42, 2.25, 0.84, 1.38, 0.87, 0.7 , 0.54, 1.86, 0.53,\n",
    "       1.3 , 1.65, 2.01, 0.69, 0.46, 0.59, 1.98, 0.75, 0.81, 0.49, 2.4 ,\n",
    "       1.38]) #in mol/L\n",
    "c_o2 = np.array([0.87, 0.59, 0.51, 2.2 , 0.67, 0.56, 1.11, 0.83, 1.42, 1.79, 2.07,\n",
    "       0.42, 1.04, 0.41, 0.98, 1.75, 2.64, 1.01, 1.33, 0.69, 2.1 , 1.92,\n",
    "       1.92, 0.47, 2.63, 1.6 , 0.72, 1.33, 0.88, 1.85, 0.7 , 1.35, 2.18,\n",
    "       1.12, 1.65, 0.57, 0.94, 2.47, 1.67, 1.74, 1.03, 2.61, 0.85, 2.32,\n",
    "       0.56, 2.59, 0.63, 0.67, 1.55, 0.55, 2.72, 1.09, 2.5 , 0.41, 0.81,\n",
    "       1.25, 1.91, 0.97, 1.84, 2.16, 1.81, 0.82, 2.43, 1.32, 1.77, 0.68,\n",
    "       1.27, 0.68, 1.44, 1.02, 1.18, 1.62, 0.86, 1.03, 1.97, 0.39, 0.89,\n",
    "       2.31, 0.47, 0.37, 2.11, 1.16, 1.33, 1.13, 1.93, 1.59, 0.58, 0.68,\n",
    "       1.27, 1.2 , 0.51, 0.51, 1.02, 2.37, 0.99, 1.1 , 0.84, 0.47, 0.82,\n",
    "       1.26]) #in mol/L\n",
    "r = np.array([15.46,  2.47,  4.05, 17.64,  3.43,  4.28,  3.61, 12.64, 13.57,\n",
    "        4.45, 14.35,  2.4 , 17.84,  6.09,  3.61,  6.14, 27.58,  9.72,\n",
    "        7.73,  3.5 , 21.25, 10.6 , 10.6 ,  7.88, 24.47, 17.52,  9.92,\n",
    "       13.79,  6.71, 13.52,  7.25,  4.75,  5.27, 13.04, 13.19,  9.74,\n",
    "        5.76,  9.83, 13.93,  6.07, 16.78, 26.61,  6.75, 17.8 , 10.25,\n",
    "       23.18,  2.59,  3.56, 13.46,  1.63, 24.98,  6.3 , 12.81,  5.66,\n",
    "        4.74,  9.95,  5.23,  5.18, 19.47,  6.63, 11.11, 11.28, 17.23,\n",
    "        6.23,  5.34, 11.99,  3.8 ,  6.55, 22.08,  5.61,  3.53, 12.25,\n",
    "        6.87,  5.  ,  6.16,  3.93,  6.63,  6.87,  8.53,  1.28, 30.  ,\n",
    "        6.9 , 12.52,  6.86,  8.58,  5.76,  8.29,  2.61, 11.4 , 13.75,\n",
    "        8.04,  2.82,  3.45,  8.51, 13.93,  5.98,  5.06,  1.7 , 14.34,\n",
    "       12.11]) #in mol/L/min\n"
   ]
  },
  {
   "cell_type": "markdown",
   "metadata": {},
   "source": [
    "Fit the original rate law ($r=kC_AC_{O2}$) and the new rate law to the data. Plot the residuals for each data point after fitting and decide which is the better fit. Include uncertainty estimates on each parameter. Which mechanism would you suggest to use?"
   ]
  },
  {
   "cell_type": "code",
   "execution_count": 2,
   "metadata": {},
   "outputs": [
    {
     "name": "stdout",
     "output_type": "stream",
     "text": [
      "k1=9.459749+/-0.157218, K1=0.020933+/-0.000284, K2=0.381955+/-0.009957\n"
     ]
    },
    {
     "data": {
      "text/plain": [
       "<Figure size 640x480 with 1 Axes>"
      ]
     },
     "metadata": {},
     "output_type": "display_data"
    }
   ],
   "source": [
    "from scipy.optimize import curve_fit, minimize\n",
    "\n",
    "ch2o = 45\n",
    "\n",
    "#helper function to calculate the rate equation\n",
    "def new_rate_eqn(c_a,c_o2,*alpha):\n",
    "    return alpha[0]*c_a*c_o2/(alpha[1]*ch2o+alpha[2]*np.sqrt(c_o2))\n",
    "\n",
    "#define the mean squared error\n",
    "def mse(x):\n",
    "    k, K1, K2 = x\n",
    "    new_rate = k*c_a*c_o2/(K1*ch2o+K2*np.sqrt(c_o2))\n",
    "    squared_error = (r-new_rate)**2.\n",
    "    return 1/2*np.sum(squared_error)\n",
    "\n",
    "#Helper function to estimate parameter uncertainty from inverse hessian\n",
    "def uncertainty(min_out,num_samples):\n",
    "    return np.diag(np.sqrt(min_out['hess_inv']*2*min_out.fun/(num_samples-3)))\n",
    "    \n",
    "    \n",
    "#Minimize the MSE\n",
    "min_out = minimize(mse,[1,3,2])\n",
    "\n",
    "#Analyze the inverse hessian to estimate the uncertainty\n",
    "perr=uncertainty(min_out,len(r))\n",
    "\n",
    "#Print the fitted constants and estimates\n",
    "print('k1=%f+/-%f, K1=%f+/-%f, K2=%f+/-%f'%(min_out.x[0],perr[0],min_out.x[1],perr[1],min_out.x[2],perr[2]))\n",
    "\n",
    "#Plot the residuals\n",
    "import matplotlib.pyplot as plt\n",
    "plt.plot(c_o2,r-new_rate_eqn(c_a,c_o2,*min_out.x),'.')\n",
    "plt.xlabel('C_{O2}')\n",
    "plt.ylabel('Residuals')\n",
    "plt.title('New rate equation')\n",
    "plt.show()"
   ]
  },
  {
   "cell_type": "code",
   "execution_count": 3,
   "metadata": {},
   "outputs": [
    {
     "name": "stdout",
     "output_type": "stream",
     "text": [
      "k=6.527714 +/- 0.048512\n"
     ]
    },
    {
     "data": {
      "image/png": "[encoded data removed]",
      "text/plain": [
       "<Figure size 432x288 with 1 Axes>"
      ]
     },
     "metadata": {
      "needs_background": "light"
     },
     "output_type": "display_data"
    }
   ],
   "source": [
    "from scipy.optimize import curve_fit\n",
    "\n",
    "def old_rate_eqn(c,*alpha):\n",
    "    c_a = c[:,0]\n",
    "    c_o2 = c[:,1]\n",
    "    return alpha[0]*c_a*c_o2\n",
    "\n",
    "#Get the parameter fit with curve_fit\n",
    "data = np.hstack([c_a.reshape((-1,1)),c_o2.reshape((-1,1))])\n",
    "f_out, f_cov = curve_fit(old_rate_eqn,data,r,[1])\n",
    "\n",
    "#Print answer and uncertainty\n",
    "perr = np.sqrt(np.diag(f_cov))\n",
    "print('k=%f +/- %f'%(f_out,perr))\n",
    "\n",
    "#Plot residuals\n",
    "import matplotlib.pyplot as plt\n",
    "plt.plot(data[:,1],r-old_rate_eqn(data,*f_out),'.')\n",
    "plt.xlabel('C_{O2}')\n",
    "plt.ylabel('Residuals')\n",
    "plt.title('r=$kc_Ac_{o2}$')\n",
    "plt.show()"
   ]
  },
  {
   "cell_type": "markdown",
   "metadata": {},
   "source": [
    "The residuatls for the new rate law are much smaller and uniformly distributed."
   ]
  },
  {
   "cell_type": "markdown",
   "metadata": {},
   "source": [
    "## Write down, but do not solve, the two coupled partial differential equations that describe concentration of cyclohexanone and O2 inside the pellet. Include the boundary conditions. Use the rate law  $r=kC_AC_{O2}$ ."
   ]
  },
  {
   "cell_type": "markdown",
   "metadata": {},
   "source": [
    "\\begin{align}\n",
    "\\frac{dW_A}{dr} + \\frac{2}{r}W_A - \\frac{k}{Da}C_A C_{O2}=0\\\\\n",
    "\\frac{dC_A}{dr} = W_A \\\\\n",
    "C_A(R) = C_{A0}\\\\\n",
    "\\frac{dC_A}{dr}|_{r=0}=0\n",
    "\\end{align}\n",
    "\n",
    "\n",
    "\\begin{align}\n",
    "\\frac{dW_{O2}}{dr} + \\frac{2}{r}W_{O2} - \\frac{k}{Do2}C_A C_{O2}=0\\\\\n",
    "\\frac{dC_{O2}}{dr} = W_{O2}\\\\\n",
    "C_{O2}(R) = C_{O20}\\\\\n",
    "\\frac{dC_{O2}}{dr}|_{r=0}=0\n",
    "\\end{align}\n",
    "\n"
   ]
  },
  {
   "cell_type": "markdown",
   "metadata": {},
   "source": [
    "## This reaction will take place inside a 1 mm pellet. The diffusion constant of O2 in the catalyst pellet is $1.9\\times 10^{-5}$ cm2/s. The diffusion constant of cyclohexanone in the pellet is $2.1\\times 10^{-6}$ cm2/s. Use the rate law  $r=kC_AC_{O2}$ with $k=0.0005$L/mol/s. The concentration of each species outside the pellet is 2 M. For each species, calculate the Thiele modulus, assuming that the other is constant. Which species will be diffusion-limited (and at reduced concentration) inside the pellet?"
   ]
  },
  {
   "cell_type": "code",
   "execution_count": 4,
   "metadata": {},
   "outputs": [
    {
     "name": "stdout",
     "output_type": "stream",
     "text": [
      "0.727392967453308 0.363696483726654\n",
      "0.2418254167033372 0.1209127083516686\n",
      "A is more diffusion limited\n"
     ]
    }
   ],
   "source": [
    "import numpy as np\n",
    "a = 0.1/3 #cm as diameter\n",
    "a2 = a/2 #cm as radius\n",
    "thiele_A = np.sqrt(0.0005*2*a**2/2.1e-6)\n",
    "thiele_A2 = np.sqrt(0.0005*2*a2**2/2.1e-6) # for R = 0.5mm\n",
    "print(thiele_A, thiele_A2)\n",
    "thiele_o2 = np.sqrt(0.0005*2*a**2/1.9e-5)\n",
    "thiele_o22 = np.sqrt(0.0005*2*a2**2/1.9e-5) # for R = 0.5mm\n",
    "print(thiele_o2, thiele_o22)\n",
    "\n",
    "print('A is more diffusion limited')"
   ]
  },
  {
   "cell_type": "markdown",
   "metadata": {},
   "source": [
    "## Solve for the concentration of each species (A,B,C above) in a 100 L plug flow (packed bed) reactor. The volume fraction of catalyst particles is 0.6. The inlet conditions are 10L/s of 2M cyclohexanone and 2M dissolved O2. Use the rate law  $r=kC_AC_{O2}$ with $k=0.0005$L/mol/s. Assume that only the species with the highest Thiele modulus is rate-limiting (i.e. calculate only a single effectiveness factor for the most diffusion-limited species and use that).  "
   ]
  },
  {
   "cell_type": "code",
   "execution_count": 5,
   "metadata": {},
   "outputs": [
    {
     "data": {
      "image/png": "[encoded data removed]",
      "text/plain": [
       "<Figure size 432x288 with 1 Axes>"
      ]
     },
     "metadata": {
      "needs_background": "light"
     },
     "output_type": "display_data"
    }
   ],
   "source": [
    "import matplotlib.pyplot as plt\n",
    "import numpy as np\n",
    "from scipy.integrate import odeint\n",
    "\n",
    "def thiele(C):\n",
    "    return np.sqrt((0.0005*2*C*a**2)/2.1e-6)\n",
    "def effect(Phi):\n",
    "    return (1/Phi) * (1/np.tanh(3*Phi) - 1/(3*Phi))\n",
    "\n",
    "def dFdV(F,V):\n",
    "    FA, FO2, FC = F\n",
    "    CA = FA/v0\n",
    "    CO2 = FO2 /v0\n",
    "    CC = FC /v0\n",
    "    eta = effect(thiele(CA))\n",
    "    r = vol_frac * eta * k * CA *CO2\n",
    "    dFAdV = -r\n",
    "    dFO2dV = -r\n",
    "    dFCdV = r\n",
    "    return [dFAdV, dFO2dV, dFCdV]\n",
    "\n",
    "k = 0.0005\n",
    "v0 = 10 \n",
    "CA0 = 2 \n",
    "CO20 = 2 \n",
    "vol_frac = 0.6\n",
    "a = 0.05/3\n",
    "FA0 = CA0*v0\n",
    "FO20 = CO20*v0\n",
    "Vspan = np.linspace(0,100)\n",
    "F0 = [FA0, FO20, 0., ]\n",
    "sol = odeint(dFdV, F0, Vspan)\n",
    "\n",
    "plt.plot(Vspan, sol[:,0], label ='A')\n",
    "plt.plot(Vspan, sol[:,1], label ='$O_2$')\n",
    "plt.plot(Vspan, sol[:,2], label ='C')\n",
    "plt.legend()\n",
    "plt.xlabel('Reactor volume (L)')\n",
    "plt.ylabel('Flow rate (mol/s)')\n",
    "plt.show()\n",
    "    "
   ]
  },
  {
   "cell_type": "markdown",
   "metadata": {},
   "source": [
    "# Chemical equilibria of two reactions [25pt]\n",
    "\n",
    "Hexane produces two different methyl-products A & B \n",
    "\\begin{align*}\n",
    "\\ce{hexane <=> A + H2}\\\\\n",
    "\\ce{hexane <=> B}\n",
    "\\end{align*}\n",
    "\n",
    "| component  | $\\Delta H_f^{600 K} (kcal/mol)$  |  $\\Delta G_f^{600 K} (kcal/mol)$ | \n",
    "|------|------|------|\n",
    "|  hexane | -46.10  |  43.02 |\n",
    "|  A | -31.69  | 45.76   |\n",
    "|  B | -47.63  | 42.39  |\n",
    "| hydrogen  | 0  |  0 |\n",
    "\n",
    "where $\\Delta H_f^{600 K} (kcal/mol)$  and  $\\Delta G_f^{600 K} (kcal/mol)$ are the heats of formation and the Gibbs free energy of formation of each of the compounds at 600 K from the elements, respectively. Find the temperature where equal amounts of A and B form if pure hexane is allowed to equilibrate 1.0 atm total pressure. Also find the mole fraction of the mixture (A &B & hexane) at this temperature. At this condition the hydrocarbons are gases. \n",
    "\n",
    "You can use the Van't Hoff relation to find the temperature-dependence of the equilibrium constants:\n",
    "\\begin{align*}\n",
    "\\ln\\left(\\frac{K(T_2)}{K(T_1)} \\right) = -\\frac{\\Delta H_{rxn}^o}{R}\\left(\\frac{1}{T_2}-\\frac{1}{T_1}\\right)\n",
    "\\end{align*}\n",
    "\n",
    "The ideal gas constant is 1.987$\\times10^{-3}$ kcal/mol/K\n"
   ]
  },
  {
   "cell_type": "code",
   "execution_count": 6,
   "metadata": {},
   "outputs": [
    {
     "name": "stdout",
     "output_type": "stream",
     "text": [
      "At Temperature 695.29K, Equal amount of A&B are produced\n"
     ]
    }
   ],
   "source": [
    "R = 1.987e-3 #kcal/mol/K\n",
    "T0 = 600\n",
    "dG1 = 45.76-43.02 #kcal/mol\n",
    "dG2 = 42.39 - 43.02 #kcal/mol\n",
    "dH1 = -31.69--46.10 #kcal/mol\n",
    "dH2 = -47.63--46.10 #kcal/mol\n",
    "\n",
    "#equilibrium rate constants of two reaction at reference T=600K\n",
    "K1o = np.exp(-dG1/R/T0) \n",
    "K2o = np.exp(-dG2/R/T0)\n",
    "\n",
    "def Ktemp(T):\n",
    "    \"\"\"\n",
    "    This is the helper function that calculates equilibrium rate contants \n",
    "    of the two reactions given final temperature T\n",
    "    \"\"\"\n",
    "    K1 = K1o*np.exp(-dH1/R * (1/T-1/T0))\n",
    "    K2 = K2o*np.exp(-dH2/R * (1/T-1/T0))\n",
    "    return [K1,K2]\n",
    "\n",
    "def eval_mol_frac(x, T):\n",
    "    \"\"\"\n",
    "    Helper function that calculates the mole fraction of each \n",
    "    species at given temperature under equlibrium condition\n",
    "    \"\"\"\n",
    "    K1, K2 = Ktemp(T)\n",
    "    x1,x2 = x\n",
    "    Chexane = 1-x1-x2\n",
    "    Ch2 = x1\n",
    "    CA = x1\n",
    "    CB = x2\n",
    "    return [Ch2*CA/Chexane-K1,CB/Chexane-K2]\n",
    "\n",
    "from scipy.optimize import fsolve\n",
    "\n",
    "def objective_equal(T):\n",
    "    \"\"\"\n",
    "    Solve for the temperature where equal amount of A &B are produced\n",
    "    \"\"\"\n",
    "    xi1,xi2 = fsolve(eval_mol_frac,[0.2,0.3],T[0])\n",
    "    return xi1-xi2\n",
    "\n",
    "ans = fsolve(objective_equal,[600])\n",
    "print('At Temperature %.2fK, Equal amount of A&B are produced'%ans)"
   ]
  },
  {
   "cell_type": "code",
   "execution_count": null,
   "metadata": {},
   "outputs": [],
   "source": []
  }
 ],
 "metadata": {
  "kernelspec": {
   "display_name": "Python 3",
   "language": "python",
   "name": "python3"
  },
  "language_info": {
   "codemirror_mode": {
    "name": "ipython",
    "version": 3
   },
   "file_extension": ".py",
   "mimetype": "text/x-python",
   "name": "python",
   "nbconvert_exporter": "python",
   "pygments_lexer": "ipython3",
   "version": "3.7.0"
  },
  "toc": {
   "base_numbering": 1,
   "nav_menu": {
    "height": "173px",
    "width": "252px"
   },
   "number_sections": true,
   "sideBar": true,
   "skip_h1_title": false,
   "title_cell": "Table of Contents",
   "title_sidebar": "Contents",
   "toc_cell": false,
   "toc_position": {},
   "toc_section_display": "block",
   "toc_window_display": false
  }
 },
 "nbformat": 4,
 "nbformat_minor": 2
}
