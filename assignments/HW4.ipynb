{
 "cells": [
  {
   "cell_type": "markdown",
   "metadata": {},
   "source": [
    "$$\\require{mhchem}$$"
   ]
  },
  {
   "cell_type": "markdown",
   "metadata": {},
   "source": [
    "# Transient CSTR (12 pt)"
   ]
  },
  {
   "cell_type": "markdown",
   "metadata": {},
   "source": [
    "Consider the reaction:\n",
    "\\begin{align*}\n",
    "\\ce{A + 2B -> C}\n",
    "\\end{align*}"
   ]
  },
  {
   "cell_type": "markdown",
   "metadata": {},
   "source": [
    "Assume this is a liquid phase CSTR, initially filled without only $C_A=1$M. The CSTR is 50 L and and the flow rate is 5 L/min. The inlet stream contains $C_A=5$M. Both reactions are elementary, with $k_1=3$/min/M$^2$ and $k_2=5$/min/M."
   ]
  },
  {
   "cell_type": "markdown",
   "metadata": {},
   "source": [
    "## Solve and plot for the transient concentration profile of each reactant from t=0 to 20 min."
   ]
  },
  {
   "cell_type": "markdown",
   "metadata": {},
   "source": [
    "## Now consider two reactors in series. Each has the same volume as the original reactor and has the same initial conditions. The outlet of the first reactor goes to the inlet of the second. Write the mole balances for each species in each tank"
   ]
  },
  {
   "cell_type": "markdown",
   "metadata": {},
   "source": [
    "## Next, solve for the concentration profile in each. Plot the concentration profiles in separate plots side-by-side (left for the first reactor, right for the second reactor)"
   ]
  },
  {
   "cell_type": "markdown",
   "metadata": {},
   "source": [
    "## Does the profiles of the first tank in this new system match the answer from 1.1? Should it?"
   ]
  },
  {
   "cell_type": "markdown",
   "metadata": {},
   "source": [
    "## For the same reaction, solve for the concentration of a semi-batch system, starting with 20L with $C_A=1$M with no outlet stream. Plot from t=0 to 6min (the point when it hits 50 L)."
   ]
  },
  {
   "cell_type": "markdown",
   "metadata": {},
   "source": [
    "## Plot the total number of moles produced of C over time with the CSTR (1.1) compared with the semi-batch reactor. Which is higher? Why?"
   ]
  },
  {
   "cell_type": "markdown",
   "metadata": {},
   "source": [
    "# Try solving the second problem from the first exam last year (the core/shell PFR). (6 pts)\n",
    "\n",
    "Like last week, try to do this without looking at the solutions. We aren't going to grade this for accuracy since you already have the solutions, just whether you submit something that isn't a line-by-line copy of the answers."
   ]
  },
  {
   "cell_type": "markdown",
   "metadata": {},
   "source": [
    "We are looking to design a liquid phase membrane PFR (V=10L) with three channels for the rection system:\n",
    "\\begin{align}\n",
    "\\ce{A + B -> 4C}, k_1=0.1/M/s\\\\\n",
    "\\ce{A + C -> 3D}, k_2=0.5/M/s\n",
    "\\end{align}\n",
    "The inner channel contains a feed of pure A with a concentration of 1M and flow rate of 2 L/s. A is very large and cannot pass any membrane. B,C,D can pass the first membrane ($k_{b,1}'=0.2/s,k_{c,1}'=0.4/s,k_{d,1}'=0.5/s$).  C,D are very small and can also pass the outer membrane ($k_{c,2}'=0.5/s,k_{d,2}'=0.7/s$). You may assume the volumetric flow rates are constant.  \n",
    "![img](./E1P2.png)"
   ]
  },
  {
   "cell_type": "markdown",
   "metadata": {},
   "source": [
    "## How many unique species concentrations are there?"
   ]
  },
  {
   "cell_type": "markdown",
   "metadata": {},
   "source": [
    "## Solve for and plot the concentration profiles for each species along the length of the reactor"
   ]
  },
  {
   "cell_type": "markdown",
   "metadata": {},
   "source": [
    "## Solve for and plot the concentration profiles for each species along the length of the reactor"
   ]
  },
  {
   "cell_type": "markdown",
   "metadata": {},
   "source": [
    "# Reaction engineering questions (2 pt)\n",
    "\n",
    "Ask one question on piazza.  Post the link here (for example, https://piazza.com/class/jl5aabbtksz62s?cid=190)."
   ]
  },
  {
   "cell_type": "markdown",
   "metadata": {},
   "source": [
    "## Bonus (1pt)\n",
    "\n",
    "Answer someone else's question on Piazza. Post the link here."
   ]
  },
  {
   "cell_type": "code",
   "execution_count": null,
   "metadata": {},
   "outputs": [],
   "source": []
  }
 ],
 "metadata": {
  "kernelspec": {
   "display_name": "Python 3",
   "language": "python",
   "name": "python3"
  },
  "language_info": {
   "codemirror_mode": {
    "name": "ipython",
    "version": 3
   },
   "file_extension": ".py",
   "mimetype": "text/x-python",
   "name": "python",
   "nbconvert_exporter": "python",
   "pygments_lexer": "ipython3",
   "version": "3.6.3"
  },
  "toc": {
   "base_numbering": 1,
   "nav_menu": {
    "height": "173px",
    "width": "252px"
   },
   "number_sections": true,
   "sideBar": true,
   "skip_h1_title": false,
   "title_cell": "Table of Contents",
   "title_sidebar": "Contents",
   "toc_cell": false,
   "toc_position": {},
   "toc_section_display": "block",
   "toc_window_display": false
  }
 },
 "nbformat": 4,
 "nbformat_minor": 2
}
