{
 "cells": [
  {
   "cell_type": "markdown",
   "metadata": {},
   "source": [
    "$$\\require{mhchem}$$       "
   ]
  },
  {
   "cell_type": "markdown",
   "metadata": {},
   "source": [
    "- Label the x/y axis of graphs (and legend if appropriate)\n",
    "- Comment your code so we understand what you're doing\n",
    "- 'print' your identified solutions / fitted constants with units"
   ]
  },
  {
   "cell_type": "markdown",
   "metadata": {},
   "source": [
    "# Transient, non-isothermal reactor (50 pt)"
   ]
  },
  {
   "cell_type": "markdown",
   "metadata": {},
   "source": [
    "The liquid phase reactions\n",
    "\\begin{align*}\n",
    "\\ce{A -> B}\\\\\n",
    "\\ce{A -> C}\n",
    "\\end{align*}\n",
    "are each first order in the concentration of A. The feed to a nonisothermal transient CSTR contains pure A at 45 $^\\circ$C and 5 mol/L. We want to operate this reactor such that the selectivity to B is greater than the selectivity to C. The following parameters apply:\n",
    "\n",
    "| Parameter       | Value                                    | Units   |\n",
    "|-----------------|------------------------------------------|---------|\n",
    "| $M_t$           | 93,200                                   | g/min   |\n",
    "| $\\Delta H_{r1}$ | -12,000                                  | cal/mol |\n",
    "| $\\Delta H_{r2}$ | -15,000                                  | cal/mol |\n",
    "| V               | 1,000                                    | L       |\n",
    "| $Q_f$           | 100                                      | L/min   |\n",
    "| $C_{pf}$        | 0.22                                     | cal/g/K |\n",
    "| $k_1$           | $3.16 \\times 10^{14}\\exp (-12,500 [K]/T)$ | 1/min   |\n",
    "| $k_2$           | $2.52 \\times 10^{9}\\exp (-8,500 [K]/T)$  | 1/min   |\n",
    "\n",
    "The CSTR has a cooling bath at 50 $^{\\circ}$C and a $Ua$ of 100,000 cal/min/K.  The reactor initially starts at 45 $^{\\circ}$C and C$_a$=C$_b$=C$_c$=0 M. The total mass in the reactor is $V M_t / Q_f$."
   ]
  },
  {
   "cell_type": "markdown",
   "metadata": {},
   "source": [
    "#### If you want to increase selectivity in the reactor ($C_B/C_C$), should you increase or decrease the temperature in the reactor? (5 pt)"
   ]
  },
  {
   "cell_type": "markdown",
   "metadata": {},
   "source": [
    "Reaction 1 has a more negative exponential Arrhenius constant (-12,500 K vs. -8,500 K),\n",
    "which means that the rate constant for reaction 1 is more sensitive to temperature\n",
    "than the rate constant for reaction 2. As such, increases in temperature\n",
    "should increase the rate of reaction 1 faster than it increases the rate of reaction 2,\n",
    "thereby improving selectivity.\n",
    "\n",
    "So we should increase temperature to increase selectivity."
   ]
  },
  {
   "cell_type": "markdown",
   "metadata": {},
   "source": [
    "#### Calculate the  transient temperature and concentrations in this reactor.  You may assume the heats of reactions are constant w.r.t to temperature ( since Cpa=Cpb=Cpc, dCp=0) for the first 40 minutes. (30 pt)"
   ]
  },
  {
   "cell_type": "code",
   "execution_count": 1,
   "metadata": {},
   "outputs": [
    {
     "data": {
      "text/plain": [
       "<Figure size 640x480 with 1 Axes>"
      ]
     },
     "metadata": {},
     "output_type": "display_data"
    },
    {
     "data": {
      "text/plain": [
       "<Figure size 640x480 with 1 Axes>"
      ]
     },
     "metadata": {},
     "output_type": "display_data"
    }
   ],
   "source": [
    "import numpy as np\n",
    "from scipy.integrate import odeint\n",
    "import matplotlib.pyplot as plt\n",
    "# Constants \n",
    "Ca_in = 5.  # mol/L\n",
    "Cb_in = 0.  # mol/L\n",
    "Cc_in = 0.  # mol/L\n",
    "M_t = 93200.  # g/min\n",
    "dH = np.array([-12000, -15000])  # cal/mol\n",
    "V = 1000.  # L\n",
    "Qf = 100.  # L/min\n",
    "Cp = 0.22  # cal/g-K\n",
    "T_in = 45+273.15  # K\n",
    "T_0 = 45+273.15  # K\n",
    "T_bath = 50+273.15  # K\n",
    "Ua = 100000.  # cal/min-K\n",
    "C0 = 0.  # mol/L\n",
    "# Calculable constants... and whatnot\n",
    "M = V*M_t/Qf  # g\n",
    "tau = V/Qf  # min\n",
    "\n",
    "\n",
    "def calc_k(T):\n",
    "    ''' Calculate the rate constants as a function of temperature '''\n",
    "    k1 = 3.16e14 * np.exp(-12500./T)\n",
    "    k2 = 2.52e9 * np.exp(-8500./T)\n",
    "    k = np.array([k1, k2])\n",
    "    return k  # 1/min\n",
    "\n",
    "\n",
    "def dXdt(X, t, T_bath):\n",
    "    ''' Calculate the differential equations for concentrations and temperature '''\n",
    "    Ca, Cb, Cc, T = X\n",
    "    k = calc_k(T)\n",
    "    r = k*Ca  # mol/L-min\n",
    "    \n",
    "    dT_rxn = -sum(dH*r*V)/(M*Cp)\n",
    "    dT_feed = (T_in-T)/tau\n",
    "    dT_jacket = Ua*(T_bath-T)/(M*Cp)\n",
    "    dTdt = dT_rxn + dT_feed + dT_jacket\n",
    "    \n",
    "    dCadt = -sum(r) + Qf*(Ca_in-Ca)/V\n",
    "    dCbdt = r[0] + Qf*(Cb_in-Cb)/V\n",
    "    dCcdt = r[1] + Qf*(Cc_in-Cc)/V\n",
    "    \n",
    "    return [dCadt, dCbdt, dCcdt, dTdt]\n",
    "\n",
    "\n",
    "t = np.linspace(0, 40, 100)  # min\n",
    "X0 = [C0, C0, C0, T_0]\n",
    "X_t = odeint(dXdt, X0, t, args=(T_bath,))\n",
    "Ca_t = X_t[:, 0]\n",
    "Cb_t = X_t[:, 1]\n",
    "Cc_t = X_t[:, 2]\n",
    "T_t = X_t[:, 3]\n",
    "\n",
    "# Plot concentrations\n",
    "plt.plot(t, Ca_t, t, Cb_t, t, Cc_t)\n",
    "plt.xlabel('Time [min]')\n",
    "plt.ylabel('Concentration [mol/L]')\n",
    "plt.legend(['A', 'B', 'C'])\n",
    "plt.show()\n",
    "# Plot Temperature\n",
    "plt.plot(t, T_t)\n",
    "plt.xlabel('Time [min]')\n",
    "plt.ylabel('Temperature [K]]')\n",
    "plt.show()"
   ]
  },
  {
   "cell_type": "markdown",
   "metadata": {},
   "source": [
    "#### Calculate the cumulative selectivity of this reactor at 40 min, defined as $C_B/C_C$, as a function of the bath temperature, from 30 $^{\\circ}$C to 60 $^{\\circ}$C. (10 pt)"
   ]
  },
  {
   "cell_type": "code",
   "execution_count": 3,
   "metadata": {},
   "outputs": [
    {
     "data": {
      "image/png": "[encoded data removed]",
      "text/plain": [
       "<Figure size 432x288 with 1 Axes>"
      ]
     },
     "metadata": {},
     "output_type": "display_data"
    }
   ],
   "source": [
    "T_range = range(30+273, 61+273)  # C\n",
    "S = []\n",
    "for T in T_range:\n",
    "    X_t = odeint(dXdt, X0, t, args=(T,))\n",
    "    Cb = X_t[-1, 1]\n",
    "    Cc = X_t[-1, 2]\n",
    "    S.append(Cb/Cc)\n",
    "\n",
    "plt.plot(T_range, S)\n",
    "plt.xlabel('Bath temperature [K]')\n",
    "plt.ylabel('Selectivity [$C_B/C_C$]')\n",
    "plt.show()"
   ]
  },
  {
   "cell_type": "markdown",
   "metadata": {},
   "source": [
    "#### Describe the profile and selectivity plots you made (a few sentences or bullets). Discuss any abnormalities you may see and why they appear. [5 pt]"
   ]
  },
  {
   "cell_type": "markdown",
   "metadata": {},
   "source": [
    "Answer varies"
   ]
  },
  {
   "cell_type": "code",
   "execution_count": null,
   "metadata": {},
   "outputs": [],
   "source": []
  }
 ],
 "metadata": {
  "kernelspec": {
   "display_name": "Python 3",
   "language": "python",
   "name": "python3"
  },
  "language_info": {
   "codemirror_mode": {
    "name": "ipython",
    "version": 3
   },
   "file_extension": ".py",
   "mimetype": "text/x-python",
   "name": "python",
   "nbconvert_exporter": "python",
   "pygments_lexer": "ipython3",
   "version": "3.6.3"
  },
  "toc": {
   "base_numbering": 1,
   "nav_menu": {
    "height": "11px",
    "width": "252px"
   },
   "number_sections": true,
   "sideBar": true,
   "skip_h1_title": false,
   "title_cell": "Table of Contents",
   "title_sidebar": "Contents",
   "toc_cell": false,
   "toc_position": {},
   "toc_section_display": "block",
   "toc_window_display": false
  }
 },
 "nbformat": 4,
 "nbformat_minor": 2
}
